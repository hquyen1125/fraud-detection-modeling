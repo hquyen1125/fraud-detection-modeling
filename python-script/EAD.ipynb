{
 "cells": [
  {
   "cell_type": "code",
   "execution_count": 3,
   "id": "193f3480-c53b-400c-88b3-9431a854dfd1",
   "metadata": {},
   "outputs": [],
   "source": [
    "import pandas as pd\n",
    "import numpy as np\n",
    "import matplotlib.pyplot as plt\n",
    "import seaborn as sns"
   ]
  },
  {
   "cell_type": "code",
   "execution_count": 9,
   "id": "b63330de-cf14-49b8-af0f-b14c45d478c1",
   "metadata": {},
   "outputs": [
    {
     "data": {
      "text/html": [
       "<div>\n",
       "<style scoped>\n",
       "    .dataframe tbody tr th:only-of-type {\n",
       "        vertical-align: middle;\n",
       "    }\n",
       "\n",
       "    .dataframe tbody tr th {\n",
       "        vertical-align: top;\n",
       "    }\n",
       "\n",
       "    .dataframe thead th {\n",
       "        text-align: right;\n",
       "    }\n",
       "</style>\n",
       "<table border=\"1\" class=\"dataframe\">\n",
       "  <thead>\n",
       "    <tr style=\"text-align: right;\">\n",
       "      <th></th>\n",
       "      <th>accountNumber</th>\n",
       "      <th>customerId</th>\n",
       "      <th>creditLimit</th>\n",
       "      <th>availableMoney</th>\n",
       "      <th>transactionDateTime</th>\n",
       "      <th>transactionAmount</th>\n",
       "      <th>merchantName</th>\n",
       "      <th>acqCountry</th>\n",
       "      <th>merchantCountryCode</th>\n",
       "      <th>posEntryMode</th>\n",
       "      <th>...</th>\n",
       "      <th>accountOpenDate</th>\n",
       "      <th>dateOfLastAddressChange</th>\n",
       "      <th>cardCVV</th>\n",
       "      <th>enteredCVV</th>\n",
       "      <th>cardLast4Digits</th>\n",
       "      <th>transactionType</th>\n",
       "      <th>currentBalance</th>\n",
       "      <th>cardPresent</th>\n",
       "      <th>expirationDateKeyInMatch</th>\n",
       "      <th>isFraud</th>\n",
       "    </tr>\n",
       "  </thead>\n",
       "  <tbody>\n",
       "    <tr>\n",
       "      <th>0</th>\n",
       "      <td>737265056</td>\n",
       "      <td>737265056</td>\n",
       "      <td>5000</td>\n",
       "      <td>5000.0</td>\n",
       "      <td>2016-08-13T14:27:32</td>\n",
       "      <td>98.55</td>\n",
       "      <td>Uber</td>\n",
       "      <td>US</td>\n",
       "      <td>US</td>\n",
       "      <td>02</td>\n",
       "      <td>...</td>\n",
       "      <td>2015-03-14</td>\n",
       "      <td>2015-03-14</td>\n",
       "      <td>414</td>\n",
       "      <td>414</td>\n",
       "      <td>1803</td>\n",
       "      <td>PURCHASE</td>\n",
       "      <td>0.0</td>\n",
       "      <td>False</td>\n",
       "      <td>False</td>\n",
       "      <td>False</td>\n",
       "    </tr>\n",
       "    <tr>\n",
       "      <th>1</th>\n",
       "      <td>737265056</td>\n",
       "      <td>737265056</td>\n",
       "      <td>5000</td>\n",
       "      <td>5000.0</td>\n",
       "      <td>2016-10-11T05:05:54</td>\n",
       "      <td>74.51</td>\n",
       "      <td>AMC #191138</td>\n",
       "      <td>US</td>\n",
       "      <td>US</td>\n",
       "      <td>09</td>\n",
       "      <td>...</td>\n",
       "      <td>2015-03-14</td>\n",
       "      <td>2015-03-14</td>\n",
       "      <td>486</td>\n",
       "      <td>486</td>\n",
       "      <td>767</td>\n",
       "      <td>PURCHASE</td>\n",
       "      <td>0.0</td>\n",
       "      <td>True</td>\n",
       "      <td>False</td>\n",
       "      <td>False</td>\n",
       "    </tr>\n",
       "    <tr>\n",
       "      <th>2</th>\n",
       "      <td>737265056</td>\n",
       "      <td>737265056</td>\n",
       "      <td>5000</td>\n",
       "      <td>5000.0</td>\n",
       "      <td>2016-11-08T09:18:39</td>\n",
       "      <td>7.47</td>\n",
       "      <td>Play Store</td>\n",
       "      <td>US</td>\n",
       "      <td>US</td>\n",
       "      <td>09</td>\n",
       "      <td>...</td>\n",
       "      <td>2015-03-14</td>\n",
       "      <td>2015-03-14</td>\n",
       "      <td>486</td>\n",
       "      <td>486</td>\n",
       "      <td>767</td>\n",
       "      <td>PURCHASE</td>\n",
       "      <td>0.0</td>\n",
       "      <td>False</td>\n",
       "      <td>False</td>\n",
       "      <td>False</td>\n",
       "    </tr>\n",
       "    <tr>\n",
       "      <th>3</th>\n",
       "      <td>737265056</td>\n",
       "      <td>737265056</td>\n",
       "      <td>5000</td>\n",
       "      <td>5000.0</td>\n",
       "      <td>2016-12-10T02:14:50</td>\n",
       "      <td>7.47</td>\n",
       "      <td>Play Store</td>\n",
       "      <td>US</td>\n",
       "      <td>US</td>\n",
       "      <td>09</td>\n",
       "      <td>...</td>\n",
       "      <td>2015-03-14</td>\n",
       "      <td>2015-03-14</td>\n",
       "      <td>486</td>\n",
       "      <td>486</td>\n",
       "      <td>767</td>\n",
       "      <td>PURCHASE</td>\n",
       "      <td>0.0</td>\n",
       "      <td>False</td>\n",
       "      <td>False</td>\n",
       "      <td>False</td>\n",
       "    </tr>\n",
       "    <tr>\n",
       "      <th>4</th>\n",
       "      <td>830329091</td>\n",
       "      <td>830329091</td>\n",
       "      <td>5000</td>\n",
       "      <td>5000.0</td>\n",
       "      <td>2016-03-24T21:04:46</td>\n",
       "      <td>71.18</td>\n",
       "      <td>Tim Hortons #947751</td>\n",
       "      <td>US</td>\n",
       "      <td>US</td>\n",
       "      <td>02</td>\n",
       "      <td>...</td>\n",
       "      <td>2015-08-06</td>\n",
       "      <td>2015-08-06</td>\n",
       "      <td>885</td>\n",
       "      <td>885</td>\n",
       "      <td>3143</td>\n",
       "      <td>PURCHASE</td>\n",
       "      <td>0.0</td>\n",
       "      <td>True</td>\n",
       "      <td>False</td>\n",
       "      <td>False</td>\n",
       "    </tr>\n",
       "  </tbody>\n",
       "</table>\n",
       "<p>5 rows × 23 columns</p>\n",
       "</div>"
      ],
      "text/plain": [
       "   accountNumber  customerId  creditLimit  availableMoney  \\\n",
       "0      737265056   737265056         5000          5000.0   \n",
       "1      737265056   737265056         5000          5000.0   \n",
       "2      737265056   737265056         5000          5000.0   \n",
       "3      737265056   737265056         5000          5000.0   \n",
       "4      830329091   830329091         5000          5000.0   \n",
       "\n",
       "   transactionDateTime  transactionAmount         merchantName acqCountry  \\\n",
       "0  2016-08-13T14:27:32              98.55                 Uber         US   \n",
       "1  2016-10-11T05:05:54              74.51          AMC #191138         US   \n",
       "2  2016-11-08T09:18:39               7.47           Play Store         US   \n",
       "3  2016-12-10T02:14:50               7.47           Play Store         US   \n",
       "4  2016-03-24T21:04:46              71.18  Tim Hortons #947751         US   \n",
       "\n",
       "  merchantCountryCode posEntryMode  ... accountOpenDate  \\\n",
       "0                  US           02  ...      2015-03-14   \n",
       "1                  US           09  ...      2015-03-14   \n",
       "2                  US           09  ...      2015-03-14   \n",
       "3                  US           09  ...      2015-03-14   \n",
       "4                  US           02  ...      2015-08-06   \n",
       "\n",
       "  dateOfLastAddressChange cardCVV enteredCVV cardLast4Digits  transactionType  \\\n",
       "0              2015-03-14     414        414            1803         PURCHASE   \n",
       "1              2015-03-14     486        486             767         PURCHASE   \n",
       "2              2015-03-14     486        486             767         PURCHASE   \n",
       "3              2015-03-14     486        486             767         PURCHASE   \n",
       "4              2015-08-06     885        885            3143         PURCHASE   \n",
       "\n",
       "   currentBalance  cardPresent expirationDateKeyInMatch  isFraud  \n",
       "0             0.0        False                    False    False  \n",
       "1             0.0         True                    False    False  \n",
       "2             0.0        False                    False    False  \n",
       "3             0.0        False                    False    False  \n",
       "4             0.0         True                    False    False  \n",
       "\n",
       "[5 rows x 23 columns]"
      ]
     },
     "execution_count": 9,
     "metadata": {},
     "output_type": "execute_result"
    }
   ],
   "source": [
    "df = pd.read_csv('card_transaction_clean.csv')\n",
    "df.head(5)"
   ]
  },
  {
   "cell_type": "markdown",
   "id": "cc6bd7b0-abc9-4e92-b0e8-7d6f0bbcfb0c",
   "metadata": {},
   "source": [
    "### Exploratory Data Analysis"
   ]
  },
  {
   "cell_type": "code",
   "execution_count": 12,
   "id": "69dfaa84-2c22-44f8-ad92-1645407a73de",
   "metadata": {},
   "outputs": [
    {
     "name": "stdout",
     "output_type": "stream",
     "text": [
      "<class 'pandas.core.frame.DataFrame'>\n",
      "RangeIndex: 786363 entries, 0 to 786362\n",
      "Data columns (total 23 columns):\n",
      " #   Column                    Non-Null Count   Dtype  \n",
      "---  ------                    --------------   -----  \n",
      " 0   accountNumber             786363 non-null  int64  \n",
      " 1   customerId                786363 non-null  int64  \n",
      " 2   creditLimit               786363 non-null  int64  \n",
      " 3   availableMoney            786363 non-null  float64\n",
      " 4   transactionDateTime       786363 non-null  object \n",
      " 5   transactionAmount         786363 non-null  float64\n",
      " 6   merchantName              786363 non-null  object \n",
      " 7   acqCountry                786363 non-null  object \n",
      " 8   merchantCountryCode       786363 non-null  object \n",
      " 9   posEntryMode              786363 non-null  object \n",
      " 10  posConditionCode          786363 non-null  object \n",
      " 11  merchantCategoryCode      786363 non-null  object \n",
      " 12  currentExpDate            786363 non-null  object \n",
      " 13  accountOpenDate           786363 non-null  object \n",
      " 14  dateOfLastAddressChange   786363 non-null  object \n",
      " 15  cardCVV                   786363 non-null  int64  \n",
      " 16  enteredCVV                786363 non-null  int64  \n",
      " 17  cardLast4Digits           786363 non-null  int64  \n",
      " 18  transactionType           786363 non-null  object \n",
      " 19  currentBalance            786363 non-null  float64\n",
      " 20  cardPresent               786363 non-null  bool   \n",
      " 21  expirationDateKeyInMatch  786363 non-null  bool   \n",
      " 22  isFraud                   786363 non-null  bool   \n",
      "dtypes: bool(3), float64(3), int64(6), object(11)\n",
      "memory usage: 122.2+ MB\n"
     ]
    }
   ],
   "source": [
    "df.info()"
   ]
  },
  {
   "cell_type": "markdown",
   "id": "c2be36fa-d5d0-41a8-aa08-72ed2f2e3028",
   "metadata": {},
   "source": [
    "Let's take a look at these categorical features:\n",
    "- accountNumber\n",
    "- customerId\n",
    "- creditLimit\n",
    "- cardCVV\n",
    "- enteredCVV\n",
    "- cardLast4Digits"
   ]
  },
  {
   "cell_type": "code",
   "execution_count": 15,
   "id": "0f99bd96-a938-494c-80a1-d3711df8dc92",
   "metadata": {},
   "outputs": [
    {
     "data": {
      "text/html": [
       "<div>\n",
       "<style scoped>\n",
       "    .dataframe tbody tr th:only-of-type {\n",
       "        vertical-align: middle;\n",
       "    }\n",
       "\n",
       "    .dataframe tbody tr th {\n",
       "        vertical-align: top;\n",
       "    }\n",
       "\n",
       "    .dataframe thead th {\n",
       "        text-align: right;\n",
       "    }\n",
       "</style>\n",
       "<table border=\"1\" class=\"dataframe\">\n",
       "  <thead>\n",
       "    <tr style=\"text-align: right;\">\n",
       "      <th></th>\n",
       "      <th>accountNumber</th>\n",
       "      <th>customerId</th>\n",
       "      <th>creditLimit</th>\n",
       "      <th>cardCVV</th>\n",
       "      <th>enteredCVV</th>\n",
       "      <th>cardLast4Digits</th>\n",
       "    </tr>\n",
       "  </thead>\n",
       "  <tbody>\n",
       "    <tr>\n",
       "      <th>0</th>\n",
       "      <td>737265056</td>\n",
       "      <td>737265056</td>\n",
       "      <td>5000</td>\n",
       "      <td>414</td>\n",
       "      <td>414</td>\n",
       "      <td>1803</td>\n",
       "    </tr>\n",
       "    <tr>\n",
       "      <th>1</th>\n",
       "      <td>737265056</td>\n",
       "      <td>737265056</td>\n",
       "      <td>5000</td>\n",
       "      <td>486</td>\n",
       "      <td>486</td>\n",
       "      <td>767</td>\n",
       "    </tr>\n",
       "    <tr>\n",
       "      <th>2</th>\n",
       "      <td>737265056</td>\n",
       "      <td>737265056</td>\n",
       "      <td>5000</td>\n",
       "      <td>486</td>\n",
       "      <td>486</td>\n",
       "      <td>767</td>\n",
       "    </tr>\n",
       "    <tr>\n",
       "      <th>3</th>\n",
       "      <td>737265056</td>\n",
       "      <td>737265056</td>\n",
       "      <td>5000</td>\n",
       "      <td>486</td>\n",
       "      <td>486</td>\n",
       "      <td>767</td>\n",
       "    </tr>\n",
       "    <tr>\n",
       "      <th>4</th>\n",
       "      <td>830329091</td>\n",
       "      <td>830329091</td>\n",
       "      <td>5000</td>\n",
       "      <td>885</td>\n",
       "      <td>885</td>\n",
       "      <td>3143</td>\n",
       "    </tr>\n",
       "  </tbody>\n",
       "</table>\n",
       "</div>"
      ],
      "text/plain": [
       "   accountNumber  customerId  creditLimit  cardCVV  enteredCVV  \\\n",
       "0      737265056   737265056         5000      414         414   \n",
       "1      737265056   737265056         5000      486         486   \n",
       "2      737265056   737265056         5000      486         486   \n",
       "3      737265056   737265056         5000      486         486   \n",
       "4      830329091   830329091         5000      885         885   \n",
       "\n",
       "   cardLast4Digits  \n",
       "0             1803  \n",
       "1              767  \n",
       "2              767  \n",
       "3              767  \n",
       "4             3143  "
      ]
     },
     "execution_count": 15,
     "metadata": {},
     "output_type": "execute_result"
    }
   ],
   "source": [
    "df[['accountNumber', 'customerId', 'creditLimit',  'cardCVV', 'enteredCVV', 'cardLast4Digits']].head(5)"
   ]
  },
  {
   "cell_type": "code",
   "execution_count": 17,
   "id": "e9c6c1d5-39b4-40f0-8b89-32da74629a35",
   "metadata": {},
   "outputs": [
    {
     "data": {
      "text/plain": [
       "accountNumber      5000\n",
       "customerId         5000\n",
       "creditLimit          10\n",
       "cardCVV             899\n",
       "enteredCVV          976\n",
       "cardLast4Digits    5245\n",
       "dtype: int64"
      ]
     },
     "execution_count": 17,
     "metadata": {},
     "output_type": "execute_result"
    }
   ],
   "source": [
    "df[['accountNumber', 'customerId', 'creditLimit',  'cardCVV', 'enteredCVV', 'cardLast4Digits']].nunique()"
   ]
  },
  {
   "cell_type": "code",
   "execution_count": 19,
   "id": "3cea2a4b-7c0e-4dea-b074-538dc7bf8ca9",
   "metadata": {},
   "outputs": [
    {
     "data": {
      "text/html": [
       "<div>\n",
       "<style scoped>\n",
       "    .dataframe tbody tr th:only-of-type {\n",
       "        vertical-align: middle;\n",
       "    }\n",
       "\n",
       "    .dataframe tbody tr th {\n",
       "        vertical-align: top;\n",
       "    }\n",
       "\n",
       "    .dataframe thead th {\n",
       "        text-align: right;\n",
       "    }\n",
       "</style>\n",
       "<table border=\"1\" class=\"dataframe\">\n",
       "  <thead>\n",
       "    <tr style=\"text-align: right;\">\n",
       "      <th></th>\n",
       "      <th>accountNumber</th>\n",
       "      <th>customerId</th>\n",
       "      <th>creditLimit</th>\n",
       "      <th>availableMoney</th>\n",
       "      <th>transactionDateTime</th>\n",
       "      <th>transactionAmount</th>\n",
       "      <th>merchantName</th>\n",
       "      <th>acqCountry</th>\n",
       "      <th>merchantCountryCode</th>\n",
       "      <th>posEntryMode</th>\n",
       "      <th>...</th>\n",
       "      <th>accountOpenDate</th>\n",
       "      <th>dateOfLastAddressChange</th>\n",
       "      <th>cardCVV</th>\n",
       "      <th>enteredCVV</th>\n",
       "      <th>cardLast4Digits</th>\n",
       "      <th>transactionType</th>\n",
       "      <th>currentBalance</th>\n",
       "      <th>cardPresent</th>\n",
       "      <th>expirationDateKeyInMatch</th>\n",
       "      <th>isFraud</th>\n",
       "    </tr>\n",
       "  </thead>\n",
       "  <tbody>\n",
       "  </tbody>\n",
       "</table>\n",
       "<p>0 rows × 23 columns</p>\n",
       "</div>"
      ],
      "text/plain": [
       "Empty DataFrame\n",
       "Columns: [accountNumber, customerId, creditLimit, availableMoney, transactionDateTime, transactionAmount, merchantName, acqCountry, merchantCountryCode, posEntryMode, posConditionCode, merchantCategoryCode, currentExpDate, accountOpenDate, dateOfLastAddressChange, cardCVV, enteredCVV, cardLast4Digits, transactionType, currentBalance, cardPresent, expirationDateKeyInMatch, isFraud]\n",
       "Index: []\n",
       "\n",
       "[0 rows x 23 columns]"
      ]
     },
     "execution_count": 19,
     "metadata": {},
     "output_type": "execute_result"
    }
   ],
   "source": [
    "#Check if accountNumber and customerId are the same for all rows\n",
    "df[(df['accountNumber']) != (df['customerId'])]"
   ]
  },
  {
   "cell_type": "markdown",
   "id": "918c1216-0a06-4f6a-8be5-e2566f3baac9",
   "metadata": {},
   "source": [
    "accountNumber and customerId are the same across all rows. I will drop accountNumber from the dataset to reduce redundancy."
   ]
  },
  {
   "cell_type": "code",
   "execution_count": 24,
   "id": "84985604-b0fa-41ea-858e-74fd06332c9f",
   "metadata": {},
   "outputs": [],
   "source": [
    "df = df.drop(['accountNumber'], axis=1)"
   ]
  },
  {
   "cell_type": "markdown",
   "id": "8dd61769-2304-4a63-aba7-fdfaf605c7e1",
   "metadata": {},
   "source": [
    "customerId is categorical variable but is stored as integer because of its numerical format. I will convert it to categorical type."
   ]
  },
  {
   "cell_type": "code",
   "execution_count": 27,
   "id": "2af2b2a8-5fb2-4bd3-b61e-c7cdc9aa9881",
   "metadata": {},
   "outputs": [],
   "source": [
    "#Convert numerical type to categorical type\n",
    "df['customerId'] = df['customerId'].astype('category')"
   ]
  },
  {
   "cell_type": "markdown",
   "id": "89bbc90c-d35f-480d-a45c-15e660e3583e",
   "metadata": {},
   "source": [
    "I will drop cardLast4Digits"
   ]
  },
  {
   "cell_type": "code",
   "execution_count": 30,
   "id": "9f773832-0d12-4d37-81fb-09f5f40cfc80",
   "metadata": {},
   "outputs": [],
   "source": [
    "df = df.drop(['cardLast4Digits'], axis=1)"
   ]
  },
  {
   "cell_type": "markdown",
   "id": "52e8e012-7692-4810-9241-07348b74023d",
   "metadata": {},
   "source": [
    "If 'enteredCVV' is different from 'cardCVV', it may be a signal for suspicious behavior. I will create a new binary feature called \"isMatchedCVV\" to see if 'enteredCVV' is the same as 'cardCVV'. I will then drop 'enteredCVV' and 'cardCVV' columns."
   ]
  },
  {
   "cell_type": "code",
   "execution_count": 33,
   "id": "baf65d26-bb4f-4251-8eaf-76aa592c584e",
   "metadata": {},
   "outputs": [],
   "source": [
    "df['isMatchedCVV'] = df['cardCVV'] == df['enteredCVV']\n",
    "df=df.drop(columns=['enteredCVV', 'cardCVV'], axis=1)"
   ]
  },
  {
   "cell_type": "markdown",
   "id": "1e7b6d01-a929-48c6-af40-cb61f6d1f235",
   "metadata": {},
   "source": [
    "To analyze categorical variables more effectively, I will create a reusable function called explore_categorical that I can apply to each variable in the dataset.\n",
    "\n",
    "I want to see:\n",
    "\n",
    "- how frequent each category is\n",
    "- how fraud is distributed across categories"
   ]
  },
  {
   "cell_type": "code",
   "execution_count": 39,
   "id": "9ef83615-70d7-409e-81c4-6c5bbfd88575",
   "metadata": {},
   "outputs": [],
   "source": [
    "def explore_categorical(col_name):\n",
    "    #Number of time each category appears\n",
    "    print(\"{0} Counts\".format(col_name))\n",
    "    print(df[col_name].value_counts())\n",
    "    print(\"\\n\")\n",
    "\n",
    "    #Converts the counts into percentages\n",
    "    print(\"{0} Ratio\".format(col_name))\n",
    "    print(df[col_name].value_counts(normalize=True))\n",
    "    print(\"\\n\")\n",
    "\n",
    "    #Number of time fraud and non-fraud occurred\n",
    "    print(\"{0} Default Counts\".format(col_name))\n",
    "    print(df.groupby(col_name, observed=False)['isFraud'].value_counts().unstack(level=-1))\n",
    "    print(\"\\n\")\n",
    "\n",
    "    #Converts the counts into percentages\n",
    "    print(\"{0} Default Ratio\".format(col_name))\n",
    "    print(df.groupby(col_name, observed=False)['isFraud'].value_counts(normalize=True).unstack(level=-1))"
   ]
  },
  {
   "cell_type": "code",
   "execution_count": 41,
   "id": "93467ce6-7b1c-4a6c-a49a-1e45e0204d13",
   "metadata": {},
   "outputs": [
    {
     "name": "stdout",
     "output_type": "stream",
     "text": [
      "creditLimit Counts\n",
      "creditLimit\n",
      "5000     201863\n",
      "15000    139307\n",
      "7500      97913\n",
      "2500      75429\n",
      "20000     68629\n",
      "10000     56889\n",
      "50000     48781\n",
      "1000      36430\n",
      "250       34025\n",
      "500       27097\n",
      "Name: count, dtype: int64\n",
      "\n",
      "\n",
      "creditLimit Ratio\n",
      "creditLimit\n",
      "5000     0.256705\n",
      "15000    0.177154\n",
      "7500     0.124514\n",
      "2500     0.095921\n",
      "20000    0.087274\n",
      "10000    0.072344\n",
      "50000    0.062034\n",
      "1000     0.046327\n",
      "250      0.043269\n",
      "500      0.034459\n",
      "Name: proportion, dtype: float64\n",
      "\n",
      "\n",
      "creditLimit Default Counts\n",
      "isFraud       False  True \n",
      "creditLimit               \n",
      "250           33618    407\n",
      "500           26632    465\n",
      "1000          35884    546\n",
      "2500          74313   1116\n",
      "5000         198336   3527\n",
      "7500          96623   1290\n",
      "10000         56123    766\n",
      "15000        136762   2545\n",
      "20000         67715    914\n",
      "50000         47940    841\n",
      "\n",
      "\n",
      "creditLimit Default Ratio\n",
      "isFraud         False     True \n",
      "creditLimit                    \n",
      "250          0.988038  0.011962\n",
      "500          0.982839  0.017161\n",
      "1000         0.985012  0.014988\n",
      "2500         0.985205  0.014795\n",
      "5000         0.982528  0.017472\n",
      "7500         0.986825  0.013175\n",
      "10000        0.986535  0.013465\n",
      "15000        0.981731  0.018269\n",
      "20000        0.986682  0.013318\n",
      "50000        0.982760  0.017240\n"
     ]
    }
   ],
   "source": [
    "explore_categorical('creditLimit')"
   ]
  },
  {
   "cell_type": "markdown",
   "id": "42429ab0-7597-454b-853b-62a56f6e0ef0",
   "metadata": {},
   "source": [
    "- The most common credit limit is 5,000 (25.7% of all customers), followed by 15,000 and 7,500.\n",
    "- The highest fraud ratios are 15,000 credit limit with 1.83%, followed by 5,000 and 50,000."
   ]
  },
  {
   "cell_type": "code",
   "execution_count": 44,
   "id": "b9026134-e4e2-4f04-82a0-cbc8f4e8e4d2",
   "metadata": {},
   "outputs": [
    {
     "name": "stdout",
     "output_type": "stream",
     "text": [
      "merchantName Counts\n",
      "merchantName\n",
      "Uber                             25613\n",
      "Lyft                             25523\n",
      "oldnavy.com                      16992\n",
      "staples.com                      16980\n",
      "alibaba.com                      16959\n",
      "                                 ...  \n",
      "Sprint Communications #561941        2\n",
      "Runners #383214                      2\n",
      "Curves #849125                       1\n",
      "EZ Wireless #149871                  1\n",
      "TMobile Wireless #602341             1\n",
      "Name: count, Length: 2490, dtype: int64\n",
      "\n",
      "\n",
      "merchantName Ratio\n",
      "merchantName\n",
      "Uber                             0.032571\n",
      "Lyft                             0.032457\n",
      "oldnavy.com                      0.021608\n",
      "staples.com                      0.021593\n",
      "alibaba.com                      0.021566\n",
      "                                   ...   \n",
      "Sprint Communications #561941    0.000003\n",
      "Runners #383214                  0.000003\n",
      "Curves #849125                   0.000001\n",
      "EZ Wireless #149871              0.000001\n",
      "TMobile Wireless #602341         0.000001\n",
      "Name: proportion, Length: 2490, dtype: float64\n",
      "\n",
      "\n",
      "merchantName Default Counts\n",
      "isFraud                      False  True \n",
      "merchantName                             \n",
      "1st BBQ                      822.0   13.0\n",
      "1st Deli                     797.0    5.0\n",
      "1st Pub                      778.0   22.0\n",
      "1st Restaurant               850.0   12.0\n",
      "1st Sandwitch Bar #119707    772.0    9.0\n",
      "...                            ...    ...\n",
      "staples.com                16581.0  399.0\n",
      "target.com                 16451.0  362.0\n",
      "walmart.com                16427.0  446.0\n",
      "westelm.com                  492.0    6.0\n",
      "williamssonoma.com           497.0    2.0\n",
      "\n",
      "[2490 rows x 2 columns]\n",
      "\n",
      "\n",
      "merchantName Default Ratio\n",
      "isFraud                       False     True \n",
      "merchantName                                 \n",
      "1st BBQ                    0.984431  0.015569\n",
      "1st Deli                   0.993766  0.006234\n",
      "1st Pub                    0.972500  0.027500\n",
      "1st Restaurant             0.986079  0.013921\n",
      "1st Sandwitch Bar #119707  0.988476  0.011524\n",
      "...                             ...       ...\n",
      "staples.com                0.976502  0.023498\n",
      "target.com                 0.978469  0.021531\n",
      "walmart.com                0.973567  0.026433\n",
      "westelm.com                0.987952  0.012048\n",
      "williamssonoma.com         0.995992  0.004008\n",
      "\n",
      "[2490 rows x 2 columns]\n"
     ]
    }
   ],
   "source": [
    "explore_categorical('merchantName')"
   ]
  },
  {
   "cell_type": "markdown",
   "id": "718d2d61-0ce1-44c4-a0ce-2256b0dcfced",
   "metadata": {},
   "source": [
    "- The top merchants by frequency are Uber (3.26%) and Lyft (3.25%).\n",
    "- Merchants like walmart.com (2.64%), 1st Pub (2.75%), and staples.com (2.35%) have relatively higher fraud rates."
   ]
  },
  {
   "cell_type": "code",
   "execution_count": 47,
   "id": "28740797-6bb8-4515-84bc-18f90c36a584",
   "metadata": {},
   "outputs": [
    {
     "name": "stdout",
     "output_type": "stream",
     "text": [
      "transactionType Counts\n",
      "transactionType\n",
      "PURCHASE                745193\n",
      "REVERSAL                 20303\n",
      "ADDRESS_VERIFICATION     20169\n",
      "UNKNOWN                    698\n",
      "Name: count, dtype: int64\n",
      "\n",
      "\n",
      "transactionType Ratio\n",
      "transactionType\n",
      "PURCHASE                0.947645\n",
      "REVERSAL                0.025819\n",
      "ADDRESS_VERIFICATION    0.025648\n",
      "UNKNOWN                 0.000888\n",
      "Name: proportion, dtype: float64\n",
      "\n",
      "\n",
      "transactionType Default Counts\n",
      "isFraud                False  True \n",
      "transactionType                    \n",
      "ADDRESS_VERIFICATION   20053    116\n",
      "PURCHASE              733243  11950\n",
      "REVERSAL               19966    337\n",
      "UNKNOWN                  684     14\n",
      "\n",
      "\n",
      "transactionType Default Ratio\n",
      "isFraud                  False     True \n",
      "transactionType                         \n",
      "ADDRESS_VERIFICATION  0.994249  0.005751\n",
      "PURCHASE              0.983964  0.016036\n",
      "REVERSAL              0.983401  0.016599\n",
      "UNKNOWN               0.979943  0.020057\n"
     ]
    }
   ],
   "source": [
    "explore_categorical('transactionType')"
   ]
  },
  {
   "cell_type": "markdown",
   "id": "b2ce6676-acce-4b2e-ae89-e25c20f72e79",
   "metadata": {},
   "source": [
    "- PURCHASE makes up the vast majority of all fraud.\n",
    "- ADDRESS_VERIFICATION has the lowest fraud rate.\n",
    "- UNKNOWN transaction type has the highest fraud rate."
   ]
  },
  {
   "cell_type": "code",
   "execution_count": 52,
   "id": "e8abd222-c496-42a2-9499-ed54be399d01",
   "metadata": {},
   "outputs": [
    {
     "name": "stdout",
     "output_type": "stream",
     "text": [
      "merchantCountryCode Counts\n",
      "merchantCountryCode\n",
      "US         778511\n",
      "MEX          3143\n",
      "CAN          2426\n",
      "PR           1559\n",
      "UNKNOWN       724\n",
      "Name: count, dtype: int64\n",
      "\n",
      "\n",
      "merchantCountryCode Ratio\n",
      "merchantCountryCode\n",
      "US         0.990015\n",
      "MEX        0.003997\n",
      "CAN        0.003085\n",
      "PR         0.001983\n",
      "UNKNOWN    0.000921\n",
      "Name: proportion, dtype: float64\n",
      "\n",
      "\n",
      "merchantCountryCode Default Counts\n",
      "isFraud               False  True \n",
      "merchantCountryCode               \n",
      "CAN                    2370     56\n",
      "MEX                    3079     64\n",
      "PR                     1532     27\n",
      "UNKNOWN                 642     82\n",
      "US                   766323  12188\n",
      "\n",
      "\n",
      "merchantCountryCode Default Ratio\n",
      "isFraud                 False     True \n",
      "merchantCountryCode                    \n",
      "CAN                  0.976917  0.023083\n",
      "MEX                  0.979637  0.020363\n",
      "PR                   0.982681  0.017319\n",
      "UNKNOWN              0.886740  0.113260\n",
      "US                   0.984344  0.015656\n"
     ]
    }
   ],
   "source": [
    "explore_categorical('merchantCountryCode')"
   ]
  },
  {
   "cell_type": "markdown",
   "id": "de5c18e4-c5c9-4d96-b354-04e459803a95",
   "metadata": {},
   "source": [
    "- UNKNOWN merchantCountryCode shows highest fraud rate (11.3%)\n",
    "- Non-US countries have slightly higher fraud rates than the US\n",
    "- Given the volume of US transactions, most fraud still happens in the US"
   ]
  },
  {
   "cell_type": "code",
   "execution_count": 58,
   "id": "8f5a81a6-284a-41bf-bb27-37d14c6f2aa3",
   "metadata": {},
   "outputs": [
    {
     "name": "stdout",
     "output_type": "stream",
     "text": [
      "customerId Counts\n",
      "customerId\n",
      "380680241    32850\n",
      "882815134    13189\n",
      "570884863    10867\n",
      "246251253    10172\n",
      "369308035     7229\n",
      "             ...  \n",
      "787335399        1\n",
      "220057198        1\n",
      "897071504        1\n",
      "622138951        1\n",
      "238928524        1\n",
      "Name: count, Length: 5000, dtype: int64\n",
      "\n",
      "\n",
      "customerId Ratio\n",
      "customerId\n",
      "380680241    0.041775\n",
      "882815134    0.016772\n",
      "570884863    0.013819\n",
      "246251253    0.012936\n",
      "369308035    0.009193\n",
      "               ...   \n",
      "787335399    0.000001\n",
      "220057198    0.000001\n",
      "897071504    0.000001\n",
      "622138951    0.000001\n",
      "238928524    0.000001\n",
      "Name: proportion, Length: 5000, dtype: float64\n",
      "\n",
      "\n",
      "customerId Default Counts\n",
      "isFraud     False  True \n",
      "customerId              \n",
      "100088067      74      1\n",
      "100108752      18      0\n",
      "100328049     103      0\n",
      "100663626      31      0\n",
      "100737756     177      1\n",
      "...           ...    ...\n",
      "999086814     672      5\n",
      "999257059     158      2\n",
      "999258704      87      1\n",
      "999283629     141      0\n",
      "999389635       9      0\n",
      "\n",
      "[5000 rows x 2 columns]\n",
      "\n",
      "\n",
      "customerId Default Ratio\n",
      "isFraud        False     True \n",
      "customerId                    \n",
      "100088067   0.986667  0.013333\n",
      "100108752   1.000000  0.000000\n",
      "100328049   1.000000  0.000000\n",
      "100663626   1.000000  0.000000\n",
      "100737756   0.994382  0.005618\n",
      "...              ...       ...\n",
      "999086814   0.992614  0.007386\n",
      "999257059   0.987500  0.012500\n",
      "999258704   0.988636  0.011364\n",
      "999283629   1.000000  0.000000\n",
      "999389635   1.000000  0.000000\n",
      "\n",
      "[5000 rows x 2 columns]\n"
     ]
    }
   ],
   "source": [
    "explore_categorical('customerId')"
   ]
  },
  {
   "cell_type": "markdown",
   "id": "5491658e-9459-4725-b962-20655a95c585",
   "metadata": {},
   "source": [
    "- There are 5,000 unique customers.\n",
    "- Some customers have tens of thousands of transactions and some only have 1 transactions.\n",
    "- A large number of customers have no fraud history.\n",
    "- I will drop this column after finishing explore & preprocess the dataset as it's just an identifier, not a meaningful feature to predict."
   ]
  },
  {
   "cell_type": "code",
   "execution_count": 61,
   "id": "b2d5653d-3ecc-4ae7-906b-f610ab37236a",
   "metadata": {},
   "outputs": [
    {
     "name": "stdout",
     "output_type": "stream",
     "text": [
      "isMatchedCVV Counts\n",
      "isMatchedCVV\n",
      "True     779348\n",
      "False      7015\n",
      "Name: count, dtype: int64\n",
      "\n",
      "\n",
      "isMatchedCVV Ratio\n",
      "isMatchedCVV\n",
      "True     0.991079\n",
      "False    0.008921\n",
      "Name: proportion, dtype: float64\n",
      "\n",
      "\n",
      "isMatchedCVV Default Counts\n",
      "isFraud        False  True \n",
      "isMatchedCVV               \n",
      "False           6812    203\n",
      "True          767134  12214\n",
      "\n",
      "\n",
      "isMatchedCVV Default Ratio\n",
      "isFraud          False     True \n",
      "isMatchedCVV                    \n",
      "False         0.971062  0.028938\n",
      "True          0.984328  0.015672\n"
     ]
    }
   ],
   "source": [
    "explore_categorical('isMatchedCVV')"
   ]
  },
  {
   "cell_type": "markdown",
   "id": "bfda7b2c-e00f-4cdc-80a6-ab3098d8c194",
   "metadata": {},
   "source": [
    "- Majority of transactions (99.1%) have matched CVV but fraud is almost 2 times more likely when CVV doesn't match.\n",
    "- isMatchedCVV is a useful predictive feature as it differentiates fraud vs. non-fraud transactions."
   ]
  },
  {
   "cell_type": "code",
   "execution_count": 67,
   "id": "c2ea1b46-a645-42e7-8194-8b9d306648bb",
   "metadata": {},
   "outputs": [
    {
     "name": "stdout",
     "output_type": "stream",
     "text": [
      "cardPresent Counts\n",
      "cardPresent\n",
      "False    433495\n",
      "True     352868\n",
      "Name: count, dtype: int64\n",
      "\n",
      "\n",
      "cardPresent Ratio\n",
      "cardPresent\n",
      "False    0.551266\n",
      "True     0.448734\n",
      "Name: proportion, dtype: float64\n",
      "\n",
      "\n",
      "cardPresent Default Counts\n",
      "isFraud       False  True \n",
      "cardPresent               \n",
      "False        424533   8962\n",
      "True         349413   3455\n",
      "\n",
      "\n",
      "cardPresent Default Ratio\n",
      "isFraud         False     True \n",
      "cardPresent                    \n",
      "False        0.979326  0.020674\n",
      "True         0.990209  0.009791\n"
     ]
    }
   ],
   "source": [
    "explore_categorical('cardPresent')"
   ]
  },
  {
   "cell_type": "markdown",
   "id": "76f43ac7-9195-46b7-877f-ff82f7d3e364",
   "metadata": {},
   "source": [
    "- Slightly more transactions were made without the card present.\n",
    "- Transactions without the card present are over 2 times more likely to be fraudulent."
   ]
  },
  {
   "cell_type": "code",
   "execution_count": 70,
   "id": "9c66606b-b01a-40b7-ab94-2b24b895935b",
   "metadata": {},
   "outputs": [
    {
     "name": "stdout",
     "output_type": "stream",
     "text": [
      "expirationDateKeyInMatch Counts\n",
      "expirationDateKeyInMatch\n",
      "False    785320\n",
      "True       1043\n",
      "Name: count, dtype: int64\n",
      "\n",
      "\n",
      "expirationDateKeyInMatch Ratio\n",
      "expirationDateKeyInMatch\n",
      "False    0.998674\n",
      "True     0.001326\n",
      "Name: proportion, dtype: float64\n",
      "\n",
      "\n",
      "expirationDateKeyInMatch Default Counts\n",
      "isFraud                    False  True \n",
      "expirationDateKeyInMatch               \n",
      "False                     772916  12404\n",
      "True                        1030     13\n",
      "\n",
      "\n",
      "expirationDateKeyInMatch Default Ratio\n",
      "isFraud                      False     True \n",
      "expirationDateKeyInMatch                    \n",
      "False                     0.984205  0.015795\n",
      "True                      0.987536  0.012464\n"
     ]
    }
   ],
   "source": [
    "explore_categorical('expirationDateKeyInMatch')"
   ]
  },
  {
   "cell_type": "markdown",
   "id": "eb8cae1b-0e93-4e2b-8eab-e15e23df2951",
   "metadata": {},
   "source": [
    "- Almost all transactions had expiration date mismatches (99.87%).\n",
    "- When the expiration date matches, there is slightly lower fraud rate."
   ]
  },
  {
   "cell_type": "markdown",
   "id": "45f0fc3e-3627-47ba-95bd-79584af14c4f",
   "metadata": {},
   "source": [
    "### Continous Variables"
   ]
  },
  {
   "cell_type": "code",
   "execution_count": 80,
   "id": "7191bb7a-4396-48e5-8025-643705ed237b",
   "metadata": {},
   "outputs": [
    {
     "data": {
      "text/html": [
       "<div>\n",
       "<style scoped>\n",
       "    .dataframe tbody tr th:only-of-type {\n",
       "        vertical-align: middle;\n",
       "    }\n",
       "\n",
       "    .dataframe tbody tr th {\n",
       "        vertical-align: top;\n",
       "    }\n",
       "\n",
       "    .dataframe thead th {\n",
       "        text-align: right;\n",
       "    }\n",
       "</style>\n",
       "<table border=\"1\" class=\"dataframe\">\n",
       "  <thead>\n",
       "    <tr style=\"text-align: right;\">\n",
       "      <th></th>\n",
       "      <th>creditLimit</th>\n",
       "      <th>availableMoney</th>\n",
       "      <th>transactionAmount</th>\n",
       "      <th>currentBalance</th>\n",
       "    </tr>\n",
       "  </thead>\n",
       "  <tbody>\n",
       "    <tr>\n",
       "      <th>count</th>\n",
       "      <td>786363.000000</td>\n",
       "      <td>786363.000000</td>\n",
       "      <td>786363.000000</td>\n",
       "      <td>786363.000000</td>\n",
       "    </tr>\n",
       "    <tr>\n",
       "      <th>mean</th>\n",
       "      <td>10759.464459</td>\n",
       "      <td>6250.725369</td>\n",
       "      <td>136.985791</td>\n",
       "      <td>4508.739089</td>\n",
       "    </tr>\n",
       "    <tr>\n",
       "      <th>std</th>\n",
       "      <td>11636.174890</td>\n",
       "      <td>8880.783989</td>\n",
       "      <td>147.725569</td>\n",
       "      <td>6457.442068</td>\n",
       "    </tr>\n",
       "    <tr>\n",
       "      <th>min</th>\n",
       "      <td>250.000000</td>\n",
       "      <td>-1005.630000</td>\n",
       "      <td>0.000000</td>\n",
       "      <td>0.000000</td>\n",
       "    </tr>\n",
       "    <tr>\n",
       "      <th>25%</th>\n",
       "      <td>5000.000000</td>\n",
       "      <td>1077.420000</td>\n",
       "      <td>33.650000</td>\n",
       "      <td>689.910000</td>\n",
       "    </tr>\n",
       "    <tr>\n",
       "      <th>50%</th>\n",
       "      <td>7500.000000</td>\n",
       "      <td>3184.860000</td>\n",
       "      <td>87.900000</td>\n",
       "      <td>2451.760000</td>\n",
       "    </tr>\n",
       "    <tr>\n",
       "      <th>75%</th>\n",
       "      <td>15000.000000</td>\n",
       "      <td>7500.000000</td>\n",
       "      <td>191.480000</td>\n",
       "      <td>5291.095000</td>\n",
       "    </tr>\n",
       "    <tr>\n",
       "      <th>max</th>\n",
       "      <td>50000.000000</td>\n",
       "      <td>50000.000000</td>\n",
       "      <td>2011.540000</td>\n",
       "      <td>47498.810000</td>\n",
       "    </tr>\n",
       "  </tbody>\n",
       "</table>\n",
       "</div>"
      ],
      "text/plain": [
       "         creditLimit  availableMoney  transactionAmount  currentBalance\n",
       "count  786363.000000   786363.000000      786363.000000   786363.000000\n",
       "mean    10759.464459     6250.725369         136.985791     4508.739089\n",
       "std     11636.174890     8880.783989         147.725569     6457.442068\n",
       "min       250.000000    -1005.630000           0.000000        0.000000\n",
       "25%      5000.000000     1077.420000          33.650000      689.910000\n",
       "50%      7500.000000     3184.860000          87.900000     2451.760000\n",
       "75%     15000.000000     7500.000000         191.480000     5291.095000\n",
       "max     50000.000000    50000.000000        2011.540000    47498.810000"
      ]
     },
     "execution_count": 80,
     "metadata": {},
     "output_type": "execute_result"
    }
   ],
   "source": [
    "df.describe()"
   ]
  },
  {
   "cell_type": "code",
   "execution_count": 82,
   "id": "798ca4e3-7d99-443f-bbb4-eaf4d25770c5",
   "metadata": {},
   "outputs": [
    {
     "data": {
      "text/html": [
       "<style type=\"text/css\">\n",
       "#T_92785_row0_col0, #T_92785_row1_col1, #T_92785_row2_col2, #T_92785_row3_col3 {\n",
       "  background-color: #023858;\n",
       "  color: #f1f1f1;\n",
       "}\n",
       "#T_92785_row0_col1 {\n",
       "  background-color: #046097;\n",
       "  color: #f1f1f1;\n",
       "}\n",
       "#T_92785_row0_col2 {\n",
       "  background-color: #fdf5fa;\n",
       "  color: #000000;\n",
       "}\n",
       "#T_92785_row0_col3 {\n",
       "  background-color: #2d8abd;\n",
       "  color: #f1f1f1;\n",
       "}\n",
       "#T_92785_row1_col0 {\n",
       "  background-color: #046198;\n",
       "  color: #f1f1f1;\n",
       "}\n",
       "#T_92785_row1_col2, #T_92785_row2_col0, #T_92785_row2_col1, #T_92785_row2_col3 {\n",
       "  background-color: #fff7fb;\n",
       "  color: #000000;\n",
       "}\n",
       "#T_92785_row1_col3 {\n",
       "  background-color: #efe9f3;\n",
       "  color: #000000;\n",
       "}\n",
       "#T_92785_row3_col0 {\n",
       "  background-color: #2c89bd;\n",
       "  color: #f1f1f1;\n",
       "}\n",
       "#T_92785_row3_col1 {\n",
       "  background-color: #e9e5f1;\n",
       "  color: #000000;\n",
       "}\n",
       "#T_92785_row3_col2 {\n",
       "  background-color: #faf3f9;\n",
       "  color: #000000;\n",
       "}\n",
       "</style>\n",
       "<table id=\"T_92785\">\n",
       "  <thead>\n",
       "    <tr>\n",
       "      <th class=\"blank level0\" >&nbsp;</th>\n",
       "      <th id=\"T_92785_level0_col0\" class=\"col_heading level0 col0\" >creditLimit</th>\n",
       "      <th id=\"T_92785_level0_col1\" class=\"col_heading level0 col1\" >availableMoney</th>\n",
       "      <th id=\"T_92785_level0_col2\" class=\"col_heading level0 col2\" >transactionAmount</th>\n",
       "      <th id=\"T_92785_level0_col3\" class=\"col_heading level0 col3\" >currentBalance</th>\n",
       "    </tr>\n",
       "  </thead>\n",
       "  <tbody>\n",
       "    <tr>\n",
       "      <th id=\"T_92785_level0_row0\" class=\"row_heading level0 row0\" >creditLimit</th>\n",
       "      <td id=\"T_92785_row0_col0\" class=\"data row0 col0\" >1.000000</td>\n",
       "      <td id=\"T_92785_row0_col1\" class=\"data row0 col1\" >0.834977</td>\n",
       "      <td id=\"T_92785_row0_col2\" class=\"data row0 col2\" >0.005581</td>\n",
       "      <td id=\"T_92785_row0_col3\" class=\"data row0 col3\" >0.653652</td>\n",
       "    </tr>\n",
       "    <tr>\n",
       "      <th id=\"T_92785_level0_row1\" class=\"row_heading level0 row1\" >availableMoney</th>\n",
       "      <td id=\"T_92785_row1_col0\" class=\"data row1 col0\" >0.834977</td>\n",
       "      <td id=\"T_92785_row1_col1\" class=\"data row1 col1\" >1.000000</td>\n",
       "      <td id=\"T_92785_row1_col2\" class=\"data row1 col2\" >-0.010070</td>\n",
       "      <td id=\"T_92785_row1_col3\" class=\"data row1 col3\" >0.129332</td>\n",
       "    </tr>\n",
       "    <tr>\n",
       "      <th id=\"T_92785_level0_row2\" class=\"row_heading level0 row2\" >transactionAmount</th>\n",
       "      <td id=\"T_92785_row2_col0\" class=\"data row2 col0\" >0.005581</td>\n",
       "      <td id=\"T_92785_row2_col1\" class=\"data row2 col1\" >-0.010070</td>\n",
       "      <td id=\"T_92785_row2_col2\" class=\"data row2 col2\" >1.000000</td>\n",
       "      <td id=\"T_92785_row2_col3\" class=\"data row2 col3\" >0.023905</td>\n",
       "    </tr>\n",
       "    <tr>\n",
       "      <th id=\"T_92785_level0_row3\" class=\"row_heading level0 row3\" >currentBalance</th>\n",
       "      <td id=\"T_92785_row3_col0\" class=\"data row3 col0\" >0.653652</td>\n",
       "      <td id=\"T_92785_row3_col1\" class=\"data row3 col1\" >0.129332</td>\n",
       "      <td id=\"T_92785_row3_col2\" class=\"data row3 col2\" >0.023905</td>\n",
       "      <td id=\"T_92785_row3_col3\" class=\"data row3 col3\" >1.000000</td>\n",
       "    </tr>\n",
       "  </tbody>\n",
       "</table>\n"
      ],
      "text/plain": [
       "<pandas.io.formats.style.Styler at 0x125873fb0>"
      ]
     },
     "execution_count": 82,
     "metadata": {},
     "output_type": "execute_result"
    }
   ],
   "source": [
    "corr = df[['creditLimit', 'availableMoney', 'transactionAmount', 'currentBalance']].corr()\n",
    "corr.style.background_gradient()"
   ]
  },
  {
   "cell_type": "markdown",
   "id": "786d3f29-073b-4ca8-aa8d-996edb4a5d4f",
   "metadata": {},
   "source": [
    "- creditLimit shows a strong correlation with availableMoney (0.83) and a moderate correlation with currentBalance (0.65).\n",
    "- To reduce multicollinearity and avoid redundancy among features, I will drop creditLimit from the dataset."
   ]
  },
  {
   "cell_type": "code",
   "execution_count": 86,
   "id": "91763e94-b5b0-4a2a-bd4d-4592bd416228",
   "metadata": {},
   "outputs": [],
   "source": [
    "df = df.drop('creditLimit', axis=1)"
   ]
  },
  {
   "cell_type": "code",
   "execution_count": 88,
   "id": "a5ccc5ae-ae81-4951-a562-79a9ef3d074f",
   "metadata": {},
   "outputs": [
    {
     "data": {
      "text/html": [
       "<div>\n",
       "<style scoped>\n",
       "    .dataframe tbody tr th:only-of-type {\n",
       "        vertical-align: middle;\n",
       "    }\n",
       "\n",
       "    .dataframe tbody tr th {\n",
       "        vertical-align: top;\n",
       "    }\n",
       "\n",
       "    .dataframe thead th {\n",
       "        text-align: right;\n",
       "    }\n",
       "</style>\n",
       "<table border=\"1\" class=\"dataframe\">\n",
       "  <thead>\n",
       "    <tr style=\"text-align: right;\">\n",
       "      <th></th>\n",
       "      <th>count</th>\n",
       "      <th>mean</th>\n",
       "      <th>std</th>\n",
       "      <th>min</th>\n",
       "      <th>25%</th>\n",
       "      <th>50%</th>\n",
       "      <th>75%</th>\n",
       "      <th>max</th>\n",
       "    </tr>\n",
       "    <tr>\n",
       "      <th>isFraud</th>\n",
       "      <th></th>\n",
       "      <th></th>\n",
       "      <th></th>\n",
       "      <th></th>\n",
       "      <th></th>\n",
       "      <th></th>\n",
       "      <th></th>\n",
       "      <th></th>\n",
       "    </tr>\n",
       "  </thead>\n",
       "  <tbody>\n",
       "    <tr>\n",
       "      <th>False</th>\n",
       "      <td>773946.0</td>\n",
       "      <td>135.570249</td>\n",
       "      <td>146.525305</td>\n",
       "      <td>0.0</td>\n",
       "      <td>33.19</td>\n",
       "      <td>86.76</td>\n",
       "      <td>189.39</td>\n",
       "      <td>2011.54</td>\n",
       "    </tr>\n",
       "    <tr>\n",
       "      <th>True</th>\n",
       "      <td>12417.0</td>\n",
       "      <td>225.215905</td>\n",
       "      <td>189.551393</td>\n",
       "      <td>0.0</td>\n",
       "      <td>86.00</td>\n",
       "      <td>176.98</td>\n",
       "      <td>311.46</td>\n",
       "      <td>1608.35</td>\n",
       "    </tr>\n",
       "  </tbody>\n",
       "</table>\n",
       "</div>"
      ],
      "text/plain": [
       "            count        mean         std  min    25%     50%     75%      max\n",
       "isFraud                                                                       \n",
       "False    773946.0  135.570249  146.525305  0.0  33.19   86.76  189.39  2011.54\n",
       "True      12417.0  225.215905  189.551393  0.0  86.00  176.98  311.46  1608.35"
      ]
     },
     "execution_count": 88,
     "metadata": {},
     "output_type": "execute_result"
    }
   ],
   "source": [
    "#Summary statistics for transactionAmount\n",
    "df.groupby('isFraud')['transactionAmount'].describe()"
   ]
  },
  {
   "cell_type": "code",
   "execution_count": 90,
   "id": "4a4711df-0c09-4df2-917a-6019256a11fc",
   "metadata": {},
   "outputs": [
    {
     "data": {
      "image/png": "[encoded data removed]",
      "text/plain": [
       "<Figure size 640x480 with 1 Axes>"
      ]
     },
     "metadata": {},
     "output_type": "display_data"
    }
   ],
   "source": [
    "sns.boxplot(x='transactionAmount', y='isFraud', data=df, orient=\"h\")\n",
    "plt.show()"
   ]
  },
  {
   "cell_type": "markdown",
   "id": "16861e1c-3716-405d-81ff-96e918f77f37",
   "metadata": {},
   "source": [
    "- Fraudulent transactions have a higher average transaction amount (mean ≈ 225) compared to non-fraudulent ones (mean ≈ 135).\n",
    "- The median (50%) and upper quartile (75%) values are also notably higher for fraud cases."
   ]
  },
  {
   "cell_type": "code",
   "execution_count": 93,
   "id": "3c6bcde4-91b2-46e0-95d6-91052e1e4ab7",
   "metadata": {},
   "outputs": [
    {
     "name": "stdout",
     "output_type": "stream",
     "text": [
      "22225\n"
     ]
    },
    {
     "data": {
      "text/plain": [
       "isFraud\n",
       "False    0.994511\n",
       "True     0.005489\n",
       "Name: proportion, dtype: float64"
      ]
     },
     "execution_count": 93,
     "metadata": {},
     "output_type": "execute_result"
    }
   ],
   "source": [
    "print((df['transactionAmount'] == 0).sum())\n",
    "df[df['transactionAmount'] == 0]['isFraud'].value_counts(normalize=True)"
   ]
  },
  {
   "cell_type": "markdown",
   "id": "bca6f8a1-47ca-463d-8f12-bcffdd6cd6bd",
   "metadata": {},
   "source": [
    "- There are 22,225 transactions that are $0. \n",
    "- Only 0.55% of these transactions are frauds so I will not take this into consideration."
   ]
  },
  {
   "cell_type": "code",
   "execution_count": 98,
   "id": "3dcc6100-5b3a-4770-8c61-b446a53ebf8a",
   "metadata": {},
   "outputs": [
    {
     "data": {
      "text/html": [
       "<div>\n",
       "<style scoped>\n",
       "    .dataframe tbody tr th:only-of-type {\n",
       "        vertical-align: middle;\n",
       "    }\n",
       "\n",
       "    .dataframe tbody tr th {\n",
       "        vertical-align: top;\n",
       "    }\n",
       "\n",
       "    .dataframe thead th {\n",
       "        text-align: right;\n",
       "    }\n",
       "</style>\n",
       "<table border=\"1\" class=\"dataframe\">\n",
       "  <thead>\n",
       "    <tr style=\"text-align: right;\">\n",
       "      <th></th>\n",
       "      <th>count</th>\n",
       "      <th>mean</th>\n",
       "      <th>std</th>\n",
       "      <th>min</th>\n",
       "      <th>25%</th>\n",
       "      <th>50%</th>\n",
       "      <th>75%</th>\n",
       "      <th>max</th>\n",
       "    </tr>\n",
       "    <tr>\n",
       "      <th>isFraud</th>\n",
       "      <th></th>\n",
       "      <th></th>\n",
       "      <th></th>\n",
       "      <th></th>\n",
       "      <th></th>\n",
       "      <th></th>\n",
       "      <th></th>\n",
       "      <th></th>\n",
       "    </tr>\n",
       "  </thead>\n",
       "  <tbody>\n",
       "    <tr>\n",
       "      <th>False</th>\n",
       "      <td>773946.0</td>\n",
       "      <td>4502.428675</td>\n",
       "      <td>6446.866656</td>\n",
       "      <td>0.0</td>\n",
       "      <td>688.0325</td>\n",
       "      <td>2446.94</td>\n",
       "      <td>5286.10</td>\n",
       "      <td>47498.81</td>\n",
       "    </tr>\n",
       "    <tr>\n",
       "      <th>True</th>\n",
       "      <td>12417.0</td>\n",
       "      <td>4902.064338</td>\n",
       "      <td>7074.701649</td>\n",
       "      <td>0.0</td>\n",
       "      <td>822.2100</td>\n",
       "      <td>2747.39</td>\n",
       "      <td>5644.35</td>\n",
       "      <td>47473.94</td>\n",
       "    </tr>\n",
       "  </tbody>\n",
       "</table>\n",
       "</div>"
      ],
      "text/plain": [
       "            count         mean          std  min       25%      50%      75%  \\\n",
       "isFraud                                                                        \n",
       "False    773946.0  4502.428675  6446.866656  0.0  688.0325  2446.94  5286.10   \n",
       "True      12417.0  4902.064338  7074.701649  0.0  822.2100  2747.39  5644.35   \n",
       "\n",
       "              max  \n",
       "isFraud            \n",
       "False    47498.81  \n",
       "True     47473.94  "
      ]
     },
     "execution_count": 98,
     "metadata": {},
     "output_type": "execute_result"
    }
   ],
   "source": [
    "#Summary statistics for currentBalance\n",
    "df.groupby('isFraud')['currentBalance'].describe()"
   ]
  },
  {
   "cell_type": "code",
   "execution_count": 100,
   "id": "6b803a84-e04e-4d2e-8b98-d53f1745ec95",
   "metadata": {},
   "outputs": [
    {
     "data": {
      "image/png": "[encoded data removed]",
      "text/plain": [
       "<Figure size 640x480 with 1 Axes>"
      ]
     },
     "metadata": {},
     "output_type": "display_data"
    }
   ],
   "source": [
    "sns.boxplot(x='currentBalance', y='isFraud', data=df, orient=\"h\")\n",
    "plt.show()"
   ]
  },
  {
   "cell_type": "code",
   "execution_count": 102,
   "id": "d3c03467-416e-4207-9627-d825510ea2ef",
   "metadata": {},
   "outputs": [
    {
     "data": {
      "text/html": [
       "<div>\n",
       "<style scoped>\n",
       "    .dataframe tbody tr th:only-of-type {\n",
       "        vertical-align: middle;\n",
       "    }\n",
       "\n",
       "    .dataframe tbody tr th {\n",
       "        vertical-align: top;\n",
       "    }\n",
       "\n",
       "    .dataframe thead th {\n",
       "        text-align: right;\n",
       "    }\n",
       "</style>\n",
       "<table border=\"1\" class=\"dataframe\">\n",
       "  <thead>\n",
       "    <tr style=\"text-align: right;\">\n",
       "      <th></th>\n",
       "      <th>count</th>\n",
       "      <th>mean</th>\n",
       "      <th>std</th>\n",
       "      <th>min</th>\n",
       "      <th>25%</th>\n",
       "      <th>50%</th>\n",
       "      <th>75%</th>\n",
       "      <th>max</th>\n",
       "    </tr>\n",
       "    <tr>\n",
       "      <th>isFraud</th>\n",
       "      <th></th>\n",
       "      <th></th>\n",
       "      <th></th>\n",
       "      <th></th>\n",
       "      <th></th>\n",
       "      <th></th>\n",
       "      <th></th>\n",
       "      <th></th>\n",
       "    </tr>\n",
       "  </thead>\n",
       "  <tbody>\n",
       "    <tr>\n",
       "      <th>False</th>\n",
       "      <td>773946.0</td>\n",
       "      <td>6252.455386</td>\n",
       "      <td>8883.600096</td>\n",
       "      <td>-1005.63</td>\n",
       "      <td>1077.42</td>\n",
       "      <td>3186.145</td>\n",
       "      <td>7500.00</td>\n",
       "      <td>50000.0</td>\n",
       "    </tr>\n",
       "    <tr>\n",
       "      <th>True</th>\n",
       "      <td>12417.0</td>\n",
       "      <td>6142.894186</td>\n",
       "      <td>8703.131117</td>\n",
       "      <td>-614.39</td>\n",
       "      <td>1078.02</td>\n",
       "      <td>3120.950</td>\n",
       "      <td>7502.82</td>\n",
       "      <td>50000.0</td>\n",
       "    </tr>\n",
       "  </tbody>\n",
       "</table>\n",
       "</div>"
      ],
      "text/plain": [
       "            count         mean          std      min      25%       50%  \\\n",
       "isFraud                                                                   \n",
       "False    773946.0  6252.455386  8883.600096 -1005.63  1077.42  3186.145   \n",
       "True      12417.0  6142.894186  8703.131117  -614.39  1078.02  3120.950   \n",
       "\n",
       "             75%      max  \n",
       "isFraud                    \n",
       "False    7500.00  50000.0  \n",
       "True     7502.82  50000.0  "
      ]
     },
     "execution_count": 102,
     "metadata": {},
     "output_type": "execute_result"
    }
   ],
   "source": [
    "#Summary statistics for availableMoney\n",
    "df.groupby('isFraud')['availableMoney'].describe()"
   ]
  },
  {
   "cell_type": "code",
   "execution_count": 104,
   "id": "f778331a-64e3-49f8-8147-697571c1298c",
   "metadata": {},
   "outputs": [
    {
     "data": {
      "image/png": "[encoded data removed]",
      "text/plain": [
       "<Figure size 640x480 with 1 Axes>"
      ]
     },
     "metadata": {},
     "output_type": "display_data"
    }
   ],
   "source": [
    "sns.boxplot(x='availableMoney', y='isFraud', data=df, orient=\"h\")\n",
    "plt.show()"
   ]
  },
  {
   "cell_type": "markdown",
   "id": "a7605b79-81cd-4d1e-9a5a-f6a0b489e5c0",
   "metadata": {},
   "source": [
    "- Fraudulent and non-fraudulent distributions for availableMoney and currentBalance are very similar in terms of mean, median, and spread.\n",
    "- The boxplots show almost overlapping distributions, with many outliers."
   ]
  },
  {
   "cell_type": "code",
   "execution_count": 107,
   "id": "f8f82bd7-c37f-45f7-ac7d-da461297196c",
   "metadata": {},
   "outputs": [],
   "source": [
    "df.to_csv('../downloads/card_transaction_EDA.csv', index=False)"
   ]
  },
  {
   "cell_type": "code",
   "execution_count": null,
   "id": "9b626788-d6f5-4f31-a50a-abf804a33ff9",
   "metadata": {},
   "outputs": [],
   "source": []
  }
 ],
 "metadata": {
  "kernelspec": {
   "display_name": "Python 3 (ipykernel)",
   "language": "python",
   "name": "python3"
  },
  "language_info": {
   "codemirror_mode": {
    "name": "ipython",
    "version": 3
   },
   "file_extension": ".py",
   "mimetype": "text/x-python",
   "name": "python",
   "nbconvert_exporter": "python",
   "pygments_lexer": "ipython3",
   "version": "3.12.2"
  }
 },
 "nbformat": 4,
 "nbformat_minor": 5
}
