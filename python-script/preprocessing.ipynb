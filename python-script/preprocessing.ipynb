{
 "cells": [
  {
   "cell_type": "code",
   "execution_count": 157,
   "id": "3ca7c36d-15f6-4a33-8296-f2b5290f594d",
   "metadata": {},
   "outputs": [],
   "source": [
    "import pandas as pd\n",
    "import numpy as np\n",
    "import matplotlib.pyplot as plt\n",
    "import seaborn as sns"
   ]
  },
  {
   "cell_type": "code",
   "execution_count": 158,
   "id": "c30ab72a-6596-4915-ae96-7ad0b090b155",
   "metadata": {},
   "outputs": [
    {
     "data": {
      "text/html": [
       "<div>\n",
       "<style scoped>\n",
       "    .dataframe tbody tr th:only-of-type {\n",
       "        vertical-align: middle;\n",
       "    }\n",
       "\n",
       "    .dataframe tbody tr th {\n",
       "        vertical-align: top;\n",
       "    }\n",
       "\n",
       "    .dataframe thead th {\n",
       "        text-align: right;\n",
       "    }\n",
       "</style>\n",
       "<table border=\"1\" class=\"dataframe\">\n",
       "  <thead>\n",
       "    <tr style=\"text-align: right;\">\n",
       "      <th></th>\n",
       "      <th>customerId</th>\n",
       "      <th>availableMoney</th>\n",
       "      <th>transactionDateTime</th>\n",
       "      <th>transactionAmount</th>\n",
       "      <th>merchantName</th>\n",
       "      <th>acqCountry</th>\n",
       "      <th>merchantCountryCode</th>\n",
       "      <th>posEntryMode</th>\n",
       "      <th>posConditionCode</th>\n",
       "      <th>merchantCategoryCode</th>\n",
       "      <th>currentExpDate</th>\n",
       "      <th>accountOpenDate</th>\n",
       "      <th>dateOfLastAddressChange</th>\n",
       "      <th>transactionType</th>\n",
       "      <th>currentBalance</th>\n",
       "      <th>cardPresent</th>\n",
       "      <th>expirationDateKeyInMatch</th>\n",
       "      <th>isFraud</th>\n",
       "      <th>isMatchedCVV</th>\n",
       "    </tr>\n",
       "  </thead>\n",
       "  <tbody>\n",
       "    <tr>\n",
       "      <th>0</th>\n",
       "      <td>737265056</td>\n",
       "      <td>5000.0</td>\n",
       "      <td>2016-08-13T14:27:32</td>\n",
       "      <td>98.55</td>\n",
       "      <td>Uber</td>\n",
       "      <td>US</td>\n",
       "      <td>US</td>\n",
       "      <td>02</td>\n",
       "      <td>01</td>\n",
       "      <td>rideshare</td>\n",
       "      <td>06/2023</td>\n",
       "      <td>2015-03-14</td>\n",
       "      <td>2015-03-14</td>\n",
       "      <td>PURCHASE</td>\n",
       "      <td>0.0</td>\n",
       "      <td>False</td>\n",
       "      <td>False</td>\n",
       "      <td>False</td>\n",
       "      <td>True</td>\n",
       "    </tr>\n",
       "    <tr>\n",
       "      <th>1</th>\n",
       "      <td>737265056</td>\n",
       "      <td>5000.0</td>\n",
       "      <td>2016-10-11T05:05:54</td>\n",
       "      <td>74.51</td>\n",
       "      <td>AMC #191138</td>\n",
       "      <td>US</td>\n",
       "      <td>US</td>\n",
       "      <td>09</td>\n",
       "      <td>01</td>\n",
       "      <td>entertainment</td>\n",
       "      <td>02/2024</td>\n",
       "      <td>2015-03-14</td>\n",
       "      <td>2015-03-14</td>\n",
       "      <td>PURCHASE</td>\n",
       "      <td>0.0</td>\n",
       "      <td>True</td>\n",
       "      <td>False</td>\n",
       "      <td>False</td>\n",
       "      <td>True</td>\n",
       "    </tr>\n",
       "    <tr>\n",
       "      <th>2</th>\n",
       "      <td>737265056</td>\n",
       "      <td>5000.0</td>\n",
       "      <td>2016-11-08T09:18:39</td>\n",
       "      <td>7.47</td>\n",
       "      <td>Play Store</td>\n",
       "      <td>US</td>\n",
       "      <td>US</td>\n",
       "      <td>09</td>\n",
       "      <td>01</td>\n",
       "      <td>mobileapps</td>\n",
       "      <td>08/2025</td>\n",
       "      <td>2015-03-14</td>\n",
       "      <td>2015-03-14</td>\n",
       "      <td>PURCHASE</td>\n",
       "      <td>0.0</td>\n",
       "      <td>False</td>\n",
       "      <td>False</td>\n",
       "      <td>False</td>\n",
       "      <td>True</td>\n",
       "    </tr>\n",
       "    <tr>\n",
       "      <th>3</th>\n",
       "      <td>737265056</td>\n",
       "      <td>5000.0</td>\n",
       "      <td>2016-12-10T02:14:50</td>\n",
       "      <td>7.47</td>\n",
       "      <td>Play Store</td>\n",
       "      <td>US</td>\n",
       "      <td>US</td>\n",
       "      <td>09</td>\n",
       "      <td>01</td>\n",
       "      <td>mobileapps</td>\n",
       "      <td>08/2025</td>\n",
       "      <td>2015-03-14</td>\n",
       "      <td>2015-03-14</td>\n",
       "      <td>PURCHASE</td>\n",
       "      <td>0.0</td>\n",
       "      <td>False</td>\n",
       "      <td>False</td>\n",
       "      <td>False</td>\n",
       "      <td>True</td>\n",
       "    </tr>\n",
       "    <tr>\n",
       "      <th>4</th>\n",
       "      <td>830329091</td>\n",
       "      <td>5000.0</td>\n",
       "      <td>2016-03-24T21:04:46</td>\n",
       "      <td>71.18</td>\n",
       "      <td>Tim Hortons #947751</td>\n",
       "      <td>US</td>\n",
       "      <td>US</td>\n",
       "      <td>02</td>\n",
       "      <td>01</td>\n",
       "      <td>fastfood</td>\n",
       "      <td>10/2029</td>\n",
       "      <td>2015-08-06</td>\n",
       "      <td>2015-08-06</td>\n",
       "      <td>PURCHASE</td>\n",
       "      <td>0.0</td>\n",
       "      <td>True</td>\n",
       "      <td>False</td>\n",
       "      <td>False</td>\n",
       "      <td>True</td>\n",
       "    </tr>\n",
       "  </tbody>\n",
       "</table>\n",
       "</div>"
      ],
      "text/plain": [
       "   customerId  availableMoney  transactionDateTime  transactionAmount  \\\n",
       "0   737265056          5000.0  2016-08-13T14:27:32              98.55   \n",
       "1   737265056          5000.0  2016-10-11T05:05:54              74.51   \n",
       "2   737265056          5000.0  2016-11-08T09:18:39               7.47   \n",
       "3   737265056          5000.0  2016-12-10T02:14:50               7.47   \n",
       "4   830329091          5000.0  2016-03-24T21:04:46              71.18   \n",
       "\n",
       "          merchantName acqCountry merchantCountryCode posEntryMode  \\\n",
       "0                 Uber         US                  US           02   \n",
       "1          AMC #191138         US                  US           09   \n",
       "2           Play Store         US                  US           09   \n",
       "3           Play Store         US                  US           09   \n",
       "4  Tim Hortons #947751         US                  US           02   \n",
       "\n",
       "  posConditionCode merchantCategoryCode currentExpDate accountOpenDate  \\\n",
       "0               01            rideshare        06/2023      2015-03-14   \n",
       "1               01        entertainment        02/2024      2015-03-14   \n",
       "2               01           mobileapps        08/2025      2015-03-14   \n",
       "3               01           mobileapps        08/2025      2015-03-14   \n",
       "4               01             fastfood        10/2029      2015-08-06   \n",
       "\n",
       "  dateOfLastAddressChange transactionType  currentBalance  cardPresent  \\\n",
       "0              2015-03-14        PURCHASE             0.0        False   \n",
       "1              2015-03-14        PURCHASE             0.0         True   \n",
       "2              2015-03-14        PURCHASE             0.0        False   \n",
       "3              2015-03-14        PURCHASE             0.0        False   \n",
       "4              2015-08-06        PURCHASE             0.0         True   \n",
       "\n",
       "   expirationDateKeyInMatch  isFraud  isMatchedCVV  \n",
       "0                     False    False          True  \n",
       "1                     False    False          True  \n",
       "2                     False    False          True  \n",
       "3                     False    False          True  \n",
       "4                     False    False          True  "
      ]
     },
     "execution_count": 158,
     "metadata": {},
     "output_type": "execute_result"
    }
   ],
   "source": [
    "df = pd.read_csv('card_transaction_EDA.csv')\n",
    "df.head(5)"
   ]
  },
  {
   "cell_type": "code",
   "execution_count": 159,
   "id": "b98fdcfc-1c70-49fb-b7bc-c6c5e133c138",
   "metadata": {},
   "outputs": [],
   "source": [
    "#Convert transactionDateTime from categorical to datetime type\n",
    "df['transactionDateTime'] = pd.to_datetime(df['transactionDateTime'])"
   ]
  },
  {
   "cell_type": "code",
   "execution_count": 160,
   "id": "fe2148d6-691e-414c-8644-14e8e6da5710",
   "metadata": {},
   "outputs": [
    {
     "name": "stdout",
     "output_type": "stream",
     "text": [
      "<class 'pandas.core.frame.DataFrame'>\n",
      "RangeIndex: 786363 entries, 0 to 786362\n",
      "Data columns (total 19 columns):\n",
      " #   Column                    Non-Null Count   Dtype         \n",
      "---  ------                    --------------   -----         \n",
      " 0   customerId                786363 non-null  int64         \n",
      " 1   availableMoney            786363 non-null  float64       \n",
      " 2   transactionDateTime       786363 non-null  datetime64[ns]\n",
      " 3   transactionAmount         786363 non-null  float64       \n",
      " 4   merchantName              786363 non-null  object        \n",
      " 5   acqCountry                786363 non-null  object        \n",
      " 6   merchantCountryCode       786363 non-null  object        \n",
      " 7   posEntryMode              786363 non-null  object        \n",
      " 8   posConditionCode          786363 non-null  object        \n",
      " 9   merchantCategoryCode      786363 non-null  object        \n",
      " 10  currentExpDate            786363 non-null  object        \n",
      " 11  accountOpenDate           786363 non-null  object        \n",
      " 12  dateOfLastAddressChange   786363 non-null  object        \n",
      " 13  transactionType           786363 non-null  object        \n",
      " 14  currentBalance            786363 non-null  float64       \n",
      " 15  cardPresent               786363 non-null  bool          \n",
      " 16  expirationDateKeyInMatch  786363 non-null  bool          \n",
      " 17  isFraud                   786363 non-null  bool          \n",
      " 18  isMatchedCVV              786363 non-null  bool          \n",
      "dtypes: bool(4), datetime64[ns](1), float64(3), int64(1), object(10)\n",
      "memory usage: 93.0+ MB\n"
     ]
    }
   ],
   "source": [
    "df.info()"
   ]
  },
  {
   "cell_type": "markdown",
   "id": "da9abd6a-625e-4238-8648-fef64bf4afa6",
   "metadata": {},
   "source": [
    "### Handling duplicated reversal transactions"
   ]
  },
  {
   "cell_type": "markdown",
   "id": "a6da212f-af2a-4eed-aa96-56ac7dbb5fc2",
   "metadata": {},
   "source": [
    "There are 2 types of duplicated transactions in this dataset:\n",
    "- duplicates of reversed transaction, where a purchase is followed by a reversal. \n",
    "- multi-swipe, where a vendor accidentally charges a customer's card multiple times within a short time span.\n",
    "\n",
    "I will identify these transactions and calculate total number and total dollar amount of them.\n"
   ]
  },
  {
   "cell_type": "code",
   "execution_count": 163,
   "id": "ed3cbd5f-2813-4340-a2a1-dafd1b31e8a4",
   "metadata": {},
   "outputs": [
    {
     "name": "stdout",
     "output_type": "stream",
     "text": [
      "Number of reversal transactions:  20303\n"
     ]
    }
   ],
   "source": [
    "print(\"Number of reversal transactions: \", df[df['transactionType']=='REVERSAL'].shape[0])"
   ]
  },
  {
   "cell_type": "code",
   "execution_count": 164,
   "id": "f91270d2-4dcc-477c-be4e-45688cf692a3",
   "metadata": {},
   "outputs": [
    {
     "data": {
      "text/plain": [
       "(0, 22)"
      ]
     },
     "execution_count": 164,
     "metadata": {},
     "output_type": "execute_result"
    }
   ],
   "source": [
    "# Filter reversal transactions\n",
    "df_reversal = df[df['transactionType'] == 'REVERSAL']\n",
    "\n",
    "# Sort by relevant features\n",
    "df_reversal = df_reversal.sort_values(by=['customerId', 'merchantName', 'transactionAmount', 'transactionDateTime'])\n",
    "\n",
    "# Group by key features\n",
    "group_cols = ['customerId', 'merchantName', 'transactionAmount']\n",
    "\n",
    "# Calculate previous time\n",
    "df_reversal['prev_time'] = df_reversal.groupby(group_cols, observed=False)['transactionDateTime'].shift(1)\n",
    "\n",
    "# Calculate time difference in minutes\n",
    "df_reversal['time_diff_min'] = (df_reversal['transactionDateTime'] - df_reversal['prev_time']).dt.total_seconds() / 60\n",
    "\n",
    "# Flag potential duplicates\n",
    "df_reversal['isDupReversal'] = df_reversal['time_diff_min'].between(0, 10)\n",
    "\n",
    "# View only those duplicates\n",
    "df_reversal[df_reversal['isDupReversal']].shape"
   ]
  },
  {
   "cell_type": "code",
   "execution_count": 165,
   "id": "254a299a-9cb8-4757-ba1f-79b546821801",
   "metadata": {},
   "outputs": [
    {
     "data": {
      "text/plain": [
       "0.0"
      ]
     },
     "execution_count": 165,
     "metadata": {},
     "output_type": "execute_result"
    }
   ],
   "source": [
    "#Calculate total amount of duplicated reversal transactions\n",
    "(df_reversal[df_reversal['isDupReversal']]['transactionAmount']).sum()"
   ]
  },
  {
   "cell_type": "code",
   "execution_count": 166,
   "id": "962ef113-ff7c-4717-8d37-3b9c1f1a5c68",
   "metadata": {},
   "outputs": [
    {
     "data": {
      "text/plain": [
       "(7682, 22)"
      ]
     },
     "execution_count": 166,
     "metadata": {},
     "output_type": "execute_result"
    }
   ],
   "source": [
    "\n",
    "# Filter non-reversal transactions\n",
    "df_multi_swipe = df[df['transactionType'] != 'REVERSAL']\n",
    "\n",
    "# Sort by relevant features\n",
    "df_multi_swipe = df_multi_swipe.sort_values(by=['customerId', 'merchantName', 'transactionAmount', 'transactionDateTime'])\n",
    "\n",
    "# Group by key features\n",
    "group_cols = ['customerId', 'merchantName', 'transactionAmount']\n",
    "\n",
    "# Calculate previous time\n",
    "df_multi_swipe['prev_time'] = df_multi_swipe.groupby(group_cols, observed=False)['transactionDateTime'].shift(1)\n",
    "\n",
    "# Calculate time difference in minutes\n",
    "df_multi_swipe['time_diff_min'] = (df_multi_swipe['transactionDateTime'] - df_multi_swipe['prev_time']).dt.total_seconds() / 60\n",
    "\n",
    "# Flag potential duplicates\n",
    "df_multi_swipe['isMultiSwipe'] = df_multi_swipe['time_diff_min'].between(0, 10)\n",
    "\n",
    "# View only those duplicates\n",
    "df_multi_swipe[df_multi_swipe['isMultiSwipe']].shape"
   ]
  },
  {
   "cell_type": "code",
   "execution_count": 167,
   "id": "7c37784a-02a0-44d7-96a6-dfa51422354f",
   "metadata": {},
   "outputs": [
    {
     "data": {
      "text/plain": [
       "1104217.97"
      ]
     },
     "execution_count": 167,
     "metadata": {},
     "output_type": "execute_result"
    }
   ],
   "source": [
    "#Calculate total amount of duplicated transactions\n",
    "(df_multi_swipe[df_multi_swipe['isMultiSwipe']]['transactionAmount']).sum()"
   ]
  },
  {
   "cell_type": "markdown",
   "id": "d982391b-2072-4b7f-98a4-362cde826049",
   "metadata": {},
   "source": [
    "### Handling DateTime"
   ]
  },
  {
   "cell_type": "markdown",
   "id": "98198e86-88a8-43a9-b9f1-7ca65fd686dd",
   "metadata": {},
   "source": [
    "Let's take a look as these datetime features:\n",
    "- transactionDateTime\n",
    "- currentExpDate\n",
    "- accountOpenDate\n",
    "- dateOfLastAddressChange\n"
   ]
  },
  {
   "cell_type": "code",
   "execution_count": 170,
   "id": "7fb58270-aa5f-4f7d-9f40-6d83428f5eec",
   "metadata": {},
   "outputs": [
    {
     "data": {
      "text/html": [
       "<div>\n",
       "<style scoped>\n",
       "    .dataframe tbody tr th:only-of-type {\n",
       "        vertical-align: middle;\n",
       "    }\n",
       "\n",
       "    .dataframe tbody tr th {\n",
       "        vertical-align: top;\n",
       "    }\n",
       "\n",
       "    .dataframe thead th {\n",
       "        text-align: right;\n",
       "    }\n",
       "</style>\n",
       "<table border=\"1\" class=\"dataframe\">\n",
       "  <thead>\n",
       "    <tr style=\"text-align: right;\">\n",
       "      <th></th>\n",
       "      <th>transactionDateTime</th>\n",
       "      <th>currentExpDate</th>\n",
       "      <th>accountOpenDate</th>\n",
       "      <th>dateOfLastAddressChange</th>\n",
       "    </tr>\n",
       "  </thead>\n",
       "  <tbody>\n",
       "    <tr>\n",
       "      <th>0</th>\n",
       "      <td>2016-08-13 14:27:32</td>\n",
       "      <td>06/2023</td>\n",
       "      <td>2015-03-14</td>\n",
       "      <td>2015-03-14</td>\n",
       "    </tr>\n",
       "    <tr>\n",
       "      <th>1</th>\n",
       "      <td>2016-10-11 05:05:54</td>\n",
       "      <td>02/2024</td>\n",
       "      <td>2015-03-14</td>\n",
       "      <td>2015-03-14</td>\n",
       "    </tr>\n",
       "    <tr>\n",
       "      <th>2</th>\n",
       "      <td>2016-11-08 09:18:39</td>\n",
       "      <td>08/2025</td>\n",
       "      <td>2015-03-14</td>\n",
       "      <td>2015-03-14</td>\n",
       "    </tr>\n",
       "    <tr>\n",
       "      <th>3</th>\n",
       "      <td>2016-12-10 02:14:50</td>\n",
       "      <td>08/2025</td>\n",
       "      <td>2015-03-14</td>\n",
       "      <td>2015-03-14</td>\n",
       "    </tr>\n",
       "    <tr>\n",
       "      <th>4</th>\n",
       "      <td>2016-03-24 21:04:46</td>\n",
       "      <td>10/2029</td>\n",
       "      <td>2015-08-06</td>\n",
       "      <td>2015-08-06</td>\n",
       "    </tr>\n",
       "  </tbody>\n",
       "</table>\n",
       "</div>"
      ],
      "text/plain": [
       "  transactionDateTime currentExpDate accountOpenDate dateOfLastAddressChange\n",
       "0 2016-08-13 14:27:32        06/2023      2015-03-14              2015-03-14\n",
       "1 2016-10-11 05:05:54        02/2024      2015-03-14              2015-03-14\n",
       "2 2016-11-08 09:18:39        08/2025      2015-03-14              2015-03-14\n",
       "3 2016-12-10 02:14:50        08/2025      2015-03-14              2015-03-14\n",
       "4 2016-03-24 21:04:46        10/2029      2015-08-06              2015-08-06"
      ]
     },
     "execution_count": 170,
     "metadata": {},
     "output_type": "execute_result"
    }
   ],
   "source": [
    "df[['transactionDateTime', 'currentExpDate', 'accountOpenDate', 'dateOfLastAddressChange']].head(5)"
   ]
  },
  {
   "cell_type": "markdown",
   "id": "c89d51cd-e5b7-4a0e-954c-036cdb525079",
   "metadata": {},
   "source": [
    "These should be transformed into a more algorithm friendly format. I will create new columns to calculate age of card, days until expiration, and days since address change so that we can use for analysis and prediction. I will then drop original columns."
   ]
  },
  {
   "cell_type": "code",
   "execution_count": 172,
   "id": "aa61e0a7-268b-4591-9381-5f9ea58cad72",
   "metadata": {},
   "outputs": [],
   "source": [
    "#Calculate the age of card in terms of days\n",
    "df['cardAge'] = df['transactionDateTime'] - pd.to_datetime(df['accountOpenDate'])\n",
    "df['cardAge'] = df['cardAge'].dt.days"
   ]
  },
  {
   "cell_type": "code",
   "execution_count": 173,
   "id": "03357cf0-54aa-4696-8d43-9b68f6cfbe43",
   "metadata": {},
   "outputs": [
    {
     "data": {
      "text/html": [
       "<div>\n",
       "<style scoped>\n",
       "    .dataframe tbody tr th:only-of-type {\n",
       "        vertical-align: middle;\n",
       "    }\n",
       "\n",
       "    .dataframe tbody tr th {\n",
       "        vertical-align: top;\n",
       "    }\n",
       "\n",
       "    .dataframe thead th {\n",
       "        text-align: right;\n",
       "    }\n",
       "</style>\n",
       "<table border=\"1\" class=\"dataframe\">\n",
       "  <thead>\n",
       "    <tr style=\"text-align: right;\">\n",
       "      <th></th>\n",
       "      <th>count</th>\n",
       "      <th>mean</th>\n",
       "      <th>std</th>\n",
       "      <th>min</th>\n",
       "      <th>25%</th>\n",
       "      <th>50%</th>\n",
       "      <th>75%</th>\n",
       "      <th>max</th>\n",
       "    </tr>\n",
       "    <tr>\n",
       "      <th>isFraud</th>\n",
       "      <th></th>\n",
       "      <th></th>\n",
       "      <th></th>\n",
       "      <th></th>\n",
       "      <th></th>\n",
       "      <th></th>\n",
       "      <th></th>\n",
       "      <th></th>\n",
       "    </tr>\n",
       "  </thead>\n",
       "  <tbody>\n",
       "    <tr>\n",
       "      <th>False</th>\n",
       "      <td>773946.0</td>\n",
       "      <td>884.053782</td>\n",
       "      <td>697.801168</td>\n",
       "      <td>1.0</td>\n",
       "      <td>430.0</td>\n",
       "      <td>680.0</td>\n",
       "      <td>1110.0</td>\n",
       "      <td>9990.0</td>\n",
       "    </tr>\n",
       "    <tr>\n",
       "      <th>True</th>\n",
       "      <td>12417.0</td>\n",
       "      <td>851.049770</td>\n",
       "      <td>677.999851</td>\n",
       "      <td>12.0</td>\n",
       "      <td>427.0</td>\n",
       "      <td>667.0</td>\n",
       "      <td>1007.0</td>\n",
       "      <td>9890.0</td>\n",
       "    </tr>\n",
       "  </tbody>\n",
       "</table>\n",
       "</div>"
      ],
      "text/plain": [
       "            count        mean         std   min    25%    50%     75%     max\n",
       "isFraud                                                                      \n",
       "False    773946.0  884.053782  697.801168   1.0  430.0  680.0  1110.0  9990.0\n",
       "True      12417.0  851.049770  677.999851  12.0  427.0  667.0  1007.0  9890.0"
      ]
     },
     "execution_count": 173,
     "metadata": {},
     "output_type": "execute_result"
    }
   ],
   "source": [
    "#Summary statistic of cardAge\n",
    "df.groupby('isFraud')['cardAge'].describe()"
   ]
  },
  {
   "cell_type": "code",
   "execution_count": 174,
   "id": "5bedd3fb-bec5-4522-96fb-2170597b9e85",
   "metadata": {},
   "outputs": [
    {
     "data": {
      "image/png": "[encoded data removed]",
      "text/plain": [
       "<Figure size 640x480 with 1 Axes>"
      ]
     },
     "metadata": {},
     "output_type": "display_data"
    }
   ],
   "source": [
    "sns.boxplot(x='cardAge', y='isFraud', data=df, orient=\"h\")\n",
    "plt.show()"
   ]
  },
  {
   "cell_type": "code",
   "execution_count": 176,
   "id": "7aa29931-516d-491b-a8f4-a73fdd8ef660",
   "metadata": {},
   "outputs": [],
   "source": [
    "#Convert expiration date to datetime and align it to the end of the month\n",
    "\n",
    "df['currentExpDate'] = pd.to_datetime(df['currentExpDate'], format='mixed', errors='coerce') + pd.offsets.MonthEnd(0)\n",
    "\n",
    "#Calculate number of days from transaction date until card expiration\n",
    "df['cardExpiration'] = (df['currentExpDate'] - df['transactionDateTime']).dt.days\n"
   ]
  },
  {
   "cell_type": "code",
   "execution_count": 178,
   "id": "7a77f10b-3b1d-4364-bdb0-184c0cb52132",
   "metadata": {},
   "outputs": [
    {
     "data": {
      "text/html": [
       "<div>\n",
       "<style scoped>\n",
       "    .dataframe tbody tr th:only-of-type {\n",
       "        vertical-align: middle;\n",
       "    }\n",
       "\n",
       "    .dataframe tbody tr th {\n",
       "        vertical-align: top;\n",
       "    }\n",
       "\n",
       "    .dataframe thead th {\n",
       "        text-align: right;\n",
       "    }\n",
       "</style>\n",
       "<table border=\"1\" class=\"dataframe\">\n",
       "  <thead>\n",
       "    <tr style=\"text-align: right;\">\n",
       "      <th></th>\n",
       "      <th>count</th>\n",
       "      <th>mean</th>\n",
       "      <th>std</th>\n",
       "      <th>min</th>\n",
       "      <th>25%</th>\n",
       "      <th>50%</th>\n",
       "      <th>75%</th>\n",
       "      <th>max</th>\n",
       "    </tr>\n",
       "    <tr>\n",
       "      <th>isFraud</th>\n",
       "      <th></th>\n",
       "      <th></th>\n",
       "      <th></th>\n",
       "      <th></th>\n",
       "      <th></th>\n",
       "      <th></th>\n",
       "      <th></th>\n",
       "      <th></th>\n",
       "    </tr>\n",
       "  </thead>\n",
       "  <tbody>\n",
       "    <tr>\n",
       "      <th>False</th>\n",
       "      <td>773946.0</td>\n",
       "      <td>3762.548523</td>\n",
       "      <td>1446.263209</td>\n",
       "      <td>1095.0</td>\n",
       "      <td>2512.0</td>\n",
       "      <td>3767.0</td>\n",
       "      <td>5012.0</td>\n",
       "      <td>6451.0</td>\n",
       "    </tr>\n",
       "    <tr>\n",
       "      <th>True</th>\n",
       "      <td>12417.0</td>\n",
       "      <td>3783.092454</td>\n",
       "      <td>1444.838922</td>\n",
       "      <td>1099.0</td>\n",
       "      <td>2559.0</td>\n",
       "      <td>3789.0</td>\n",
       "      <td>5033.0</td>\n",
       "      <td>6438.0</td>\n",
       "    </tr>\n",
       "  </tbody>\n",
       "</table>\n",
       "</div>"
      ],
      "text/plain": [
       "            count         mean          std     min     25%     50%     75%  \\\n",
       "isFraud                                                                       \n",
       "False    773946.0  3762.548523  1446.263209  1095.0  2512.0  3767.0  5012.0   \n",
       "True      12417.0  3783.092454  1444.838922  1099.0  2559.0  3789.0  5033.0   \n",
       "\n",
       "            max  \n",
       "isFraud          \n",
       "False    6451.0  \n",
       "True     6438.0  "
      ]
     },
     "execution_count": 178,
     "metadata": {},
     "output_type": "execute_result"
    }
   ],
   "source": [
    "#Summary statistic of cardExpiration\n",
    "df.groupby('isFraud')['cardExpiration'].describe()"
   ]
  },
  {
   "cell_type": "code",
   "execution_count": 180,
   "id": "766f205a-b961-430c-af97-2fe6dd12e5ff",
   "metadata": {},
   "outputs": [
    {
     "data": {
      "image/png": "[encoded data removed]",
      "text/plain": [
       "<Figure size 640x480 with 1 Axes>"
      ]
     },
     "metadata": {},
     "output_type": "display_data"
    }
   ],
   "source": [
    "sns.boxplot(x='cardAge', y='isFraud', data=df, orient=\"h\")\n",
    "plt.show()"
   ]
  },
  {
   "cell_type": "code",
   "execution_count": 182,
   "id": "09118f34-d5bc-4c7b-843d-e3fe3a892ac2",
   "metadata": {},
   "outputs": [],
   "source": [
    "#Calculate days since last address change\n",
    "df['dateOfLastAddressChange'] = pd.to_datetime(df['dateOfLastAddressChange'])\n",
    "df['daysSinceAddressChange'] = (df['transactionDateTime'] - df['dateOfLastAddressChange']).dt.days"
   ]
  },
  {
   "cell_type": "code",
   "execution_count": 184,
   "id": "24ee2d21-c3a4-4a3d-a409-e85be1536519",
   "metadata": {},
   "outputs": [
    {
     "data": {
      "text/html": [
       "<div>\n",
       "<style scoped>\n",
       "    .dataframe tbody tr th:only-of-type {\n",
       "        vertical-align: middle;\n",
       "    }\n",
       "\n",
       "    .dataframe tbody tr th {\n",
       "        vertical-align: top;\n",
       "    }\n",
       "\n",
       "    .dataframe thead th {\n",
       "        text-align: right;\n",
       "    }\n",
       "</style>\n",
       "<table border=\"1\" class=\"dataframe\">\n",
       "  <thead>\n",
       "    <tr style=\"text-align: right;\">\n",
       "      <th></th>\n",
       "      <th>count</th>\n",
       "      <th>mean</th>\n",
       "      <th>std</th>\n",
       "      <th>min</th>\n",
       "      <th>25%</th>\n",
       "      <th>50%</th>\n",
       "      <th>75%</th>\n",
       "      <th>max</th>\n",
       "    </tr>\n",
       "    <tr>\n",
       "      <th>isFraud</th>\n",
       "      <th></th>\n",
       "      <th></th>\n",
       "      <th></th>\n",
       "      <th></th>\n",
       "      <th></th>\n",
       "      <th></th>\n",
       "      <th></th>\n",
       "      <th></th>\n",
       "    </tr>\n",
       "  </thead>\n",
       "  <tbody>\n",
       "    <tr>\n",
       "      <th>False</th>\n",
       "      <td>773946.0</td>\n",
       "      <td>448.798443</td>\n",
       "      <td>663.797336</td>\n",
       "      <td>0.0</td>\n",
       "      <td>29.0</td>\n",
       "      <td>160.0</td>\n",
       "      <td>613.0</td>\n",
       "      <td>9990.0</td>\n",
       "    </tr>\n",
       "    <tr>\n",
       "      <th>True</th>\n",
       "      <td>12417.0</td>\n",
       "      <td>417.214545</td>\n",
       "      <td>656.859475</td>\n",
       "      <td>0.0</td>\n",
       "      <td>24.0</td>\n",
       "      <td>127.0</td>\n",
       "      <td>557.0</td>\n",
       "      <td>9890.0</td>\n",
       "    </tr>\n",
       "  </tbody>\n",
       "</table>\n",
       "</div>"
      ],
      "text/plain": [
       "            count        mean         std  min   25%    50%    75%     max\n",
       "isFraud                                                                   \n",
       "False    773946.0  448.798443  663.797336  0.0  29.0  160.0  613.0  9990.0\n",
       "True      12417.0  417.214545  656.859475  0.0  24.0  127.0  557.0  9890.0"
      ]
     },
     "execution_count": 184,
     "metadata": {},
     "output_type": "execute_result"
    }
   ],
   "source": [
    "#Summary statistic of cardAge\n",
    "df.groupby('isFraud')['daysSinceAddressChange'].describe()"
   ]
  },
  {
   "cell_type": "code",
   "execution_count": 186,
   "id": "a9da7ed8-9cac-4c17-be56-1eb1ca26ff6e",
   "metadata": {},
   "outputs": [
    {
     "data": {
      "image/png": "[encoded data removed]",
      "text/plain": [
       "<Figure size 640x480 with 1 Axes>"
      ]
     },
     "metadata": {},
     "output_type": "display_data"
    }
   ],
   "source": [
    "sns.boxplot(x='daysSinceAddressChange', y='isFraud', data=df, orient=\"h\")\n",
    "plt.show()"
   ]
  },
  {
   "cell_type": "code",
   "execution_count": 188,
   "id": "1e472628-8f9a-4882-9e58-df07b1bee32b",
   "metadata": {},
   "outputs": [],
   "source": [
    "#Drop original columns\n",
    "df = df.drop(columns=['currentExpDate', 'accountOpenDate', 'dateOfLastAddressChange', 'transactionDateTime'], axis=1)"
   ]
  },
  {
   "cell_type": "code",
   "execution_count": 194,
   "id": "e5a7f07d-ccca-412d-9ceb-e92eec4d18a3",
   "metadata": {},
   "outputs": [
    {
     "data": {
      "text/html": [
       "<style type=\"text/css\">\n",
       "#T_39620_row0_col0, #T_39620_row1_col1, #T_39620_row2_col2 {\n",
       "  background-color: #023858;\n",
       "  color: #f1f1f1;\n",
       "}\n",
       "#T_39620_row0_col1, #T_39620_row1_col0, #T_39620_row1_col2 {\n",
       "  background-color: #fff7fb;\n",
       "  color: #000000;\n",
       "}\n",
       "#T_39620_row0_col2 {\n",
       "  background-color: #4a98c5;\n",
       "  color: #f1f1f1;\n",
       "}\n",
       "#T_39620_row2_col0 {\n",
       "  background-color: #4697c4;\n",
       "  color: #f1f1f1;\n",
       "}\n",
       "#T_39620_row2_col1 {\n",
       "  background-color: #fdf5fa;\n",
       "  color: #000000;\n",
       "}\n",
       "</style>\n",
       "<table id=\"T_39620\">\n",
       "  <thead>\n",
       "    <tr>\n",
       "      <th class=\"blank level0\" >&nbsp;</th>\n",
       "      <th id=\"T_39620_level0_col0\" class=\"col_heading level0 col0\" >cardAge</th>\n",
       "      <th id=\"T_39620_level0_col1\" class=\"col_heading level0 col1\" >cardExpiration</th>\n",
       "      <th id=\"T_39620_level0_col2\" class=\"col_heading level0 col2\" >daysSinceAddressChange</th>\n",
       "    </tr>\n",
       "  </thead>\n",
       "  <tbody>\n",
       "    <tr>\n",
       "      <th id=\"T_39620_level0_row0\" class=\"row_heading level0 row0\" >cardAge</th>\n",
       "      <td id=\"T_39620_row0_col0\" class=\"data row0 col0\" >1.000000</td>\n",
       "      <td id=\"T_39620_row0_col1\" class=\"data row0 col1\" >-0.013491</td>\n",
       "      <td id=\"T_39620_row0_col2\" class=\"data row0 col2\" >0.585585</td>\n",
       "    </tr>\n",
       "    <tr>\n",
       "      <th id=\"T_39620_level0_row1\" class=\"row_heading level0 row1\" >cardExpiration</th>\n",
       "      <td id=\"T_39620_row1_col0\" class=\"data row1 col0\" >-0.013491</td>\n",
       "      <td id=\"T_39620_row1_col1\" class=\"data row1 col1\" >1.000000</td>\n",
       "      <td id=\"T_39620_row1_col2\" class=\"data row1 col2\" >0.003809</td>\n",
       "    </tr>\n",
       "    <tr>\n",
       "      <th id=\"T_39620_level0_row2\" class=\"row_heading level0 row2\" >daysSinceAddressChange</th>\n",
       "      <td id=\"T_39620_row2_col0\" class=\"data row2 col0\" >0.585585</td>\n",
       "      <td id=\"T_39620_row2_col1\" class=\"data row2 col1\" >0.003809</td>\n",
       "      <td id=\"T_39620_row2_col2\" class=\"data row2 col2\" >1.000000</td>\n",
       "    </tr>\n",
       "  </tbody>\n",
       "</table>\n"
      ],
      "text/plain": [
       "<pandas.io.formats.style.Styler at 0x31b668fb0>"
      ]
     },
     "execution_count": 194,
     "metadata": {},
     "output_type": "execute_result"
    }
   ],
   "source": [
    "corr = df[['cardAge', 'cardExpiration', 'daysSinceAddressChange']].corr()\n",
    "corr.style.background_gradient()"
   ]
  },
  {
   "cell_type": "code",
   "execution_count": 205,
   "id": "4e5f0aac-c8b5-4a88-8b22-46b522af67cb",
   "metadata": {},
   "outputs": [
    {
     "data": {
      "text/plain": [
       "customerId                    5000\n",
       "availableMoney              521888\n",
       "transactionAmount            66038\n",
       "merchantName                  2490\n",
       "acqCountry                       5\n",
       "merchantCountryCode              5\n",
       "posEntryMode                     6\n",
       "posConditionCode                 4\n",
       "merchantCategoryCode            19\n",
       "transactionType                  4\n",
       "currentBalance              487318\n",
       "cardPresent                      2\n",
       "expirationDateKeyInMatch         2\n",
       "isFraud                          2\n",
       "isMatchedCVV                     2\n",
       "cardAge                       5102\n",
       "cardExpiration                5356\n",
       "daysSinceAddressChange        4810\n",
       "dtype: int64"
      ]
     },
     "execution_count": 205,
     "metadata": {},
     "output_type": "execute_result"
    }
   ],
   "source": [
    "df.nunique() "
   ]
  },
  {
   "cell_type": "markdown",
   "id": "c13583fb-2be1-4d17-95f4-004c66c61706",
   "metadata": {},
   "source": [
    "I will drop merchantName and customerId because of high cardinality."
   ]
  },
  {
   "cell_type": "code",
   "execution_count": 208,
   "id": "2cbd4d76-5900-4ae1-887f-39d49c5789fa",
   "metadata": {},
   "outputs": [],
   "source": [
    "df = df.drop(columns=['customerId', 'merchantName'], axis=1)"
   ]
  },
  {
   "cell_type": "markdown",
   "id": "73b3e363-87b4-4917-9be7-075c21558d45",
   "metadata": {},
   "source": [
    "### Variable Encoding"
   ]
  },
  {
   "cell_type": "markdown",
   "id": "04352836-8b24-415d-aa9b-3f6c6ab797c0",
   "metadata": {},
   "source": [
    "I will use pd.get_dummies to one hot encode our categorical variables"
   ]
  },
  {
   "cell_type": "code",
   "execution_count": 212,
   "id": "2cc9a89f-f6a9-4ed6-bf99-80a7d10103d8",
   "metadata": {},
   "outputs": [],
   "source": [
    "categorical_cols = ['acqCountry', 'merchantCountryCode', 'posEntryMode',\n",
    "                    'posConditionCode', 'merchantCategoryCode', 'transactionType']\n",
    "\n",
    "df = pd.get_dummies(df, columns=categorical_cols, drop_first=True)"
   ]
  },
  {
   "cell_type": "code",
   "execution_count": 216,
   "id": "bf263100-a219-4414-ad48-57d46c098360",
   "metadata": {},
   "outputs": [],
   "source": [
    "df.to_csv('../downloads/card_transaction_preprocessed.csv', index=False)"
   ]
  },
  {
   "cell_type": "code",
   "execution_count": null,
   "id": "3c10ab6d-0ee9-40d4-b3d1-e9a9a76032fd",
   "metadata": {},
   "outputs": [],
   "source": []
  }
 ],
 "metadata": {
  "kernelspec": {
   "display_name": "Python 3 (ipykernel)",
   "language": "python",
   "name": "python3"
  },
  "language_info": {
   "codemirror_mode": {
    "name": "ipython",
    "version": 3
   },
   "file_extension": ".py",
   "mimetype": "text/x-python",
   "name": "python",
   "nbconvert_exporter": "python",
   "pygments_lexer": "ipython3",
   "version": "3.12.2"
  }
 },
 "nbformat": 4,
 "nbformat_minor": 5
}
